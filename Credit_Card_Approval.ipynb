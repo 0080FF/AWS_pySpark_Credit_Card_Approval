{
 "cells": [
  {
   "cell_type": "code",
   "execution_count": null,
   "id": "f0620349",
   "metadata": {},
   "outputs": [],
   "source": [
    "\"\"\"\n",
    "1.\n",
    "     Objective of the project: to use ML predicting credit card application approval.\n",
    "     \n",
    "     Method of analysis: preprocessing the dataset first, then we can use logistic regression and\n",
    "     decision tree, or even more algorithms.\n",
    "     \n",
    "     X variables: All columns except Y varibale, ID, FLAG_MOBIL, FLAG_WORK_PHONE,FLAG_PHONE, and FLAG_EMAIL\n",
    "     Y variable: STATUS (1 for bad client, 0 for good client)\n",
    "     \n",
    "     Columns descriptions: From first column to last--- Customer ID, Gender, Whether they have a car,\n",
    "                          Whether they have realty, Number of children, Annual income, Income category,\n",
    "                          Education level, Marital status, Way of living, age, years employed, \n",
    "                          Whether they have a mobile phone, Whether they have a work phone\n",
    "                          Whether they have a phone, Whether they have email, family size, and approval or no.\n",
    "\"\"\""
   ]
  },
  {
   "cell_type": "code",
   "execution_count": 31,
   "id": "50a5b2ae",
   "metadata": {},
   "outputs": [
    {
     "data": {
      "application/vnd.jupyter.widget-view+json": {
       "model_id": "b6d0310353894b2db94cd014f23d6fd8",
       "version_major": 2,
       "version_minor": 0
      },
      "text/plain": [
       "VBox()"
      ]
     },
     "metadata": {},
     "output_type": "display_data"
    },
    {
     "data": {
      "application/vnd.jupyter.widget-view+json": {
       "model_id": "",
       "version_major": 2,
       "version_minor": 0
      },
      "text/plain": [
       "FloatProgress(value=0.0, bar_style='info', description='Progress:', layout=Layout(height='25px', width='50%'),…"
      ]
     },
     "metadata": {},
     "output_type": "display_data"
    }
   ],
   "source": [
    "# read csv\n",
    "df = spark.read.csv('s3://mybucketname32/Project/Credit_Card.csv',\n",
    "                    header=True,\n",
    "                    inferSchema=True)"
   ]
  },
  {
   "cell_type": "code",
   "execution_count": 2,
   "id": "81549325",
   "metadata": {},
   "outputs": [
    {
     "data": {
      "application/vnd.jupyter.widget-view+json": {
       "model_id": "e5c2f41999d64cab92dae210b070e76e",
       "version_major": 2,
       "version_minor": 0
      },
      "text/plain": [
       "VBox()"
      ]
     },
     "metadata": {},
     "output_type": "display_data"
    },
    {
     "data": {
      "application/vnd.jupyter.widget-view+json": {
       "model_id": "",
       "version_major": 2,
       "version_minor": 0
      },
      "text/plain": [
       "FloatProgress(value=0.0, bar_style='info', description='Progress:', layout=Layout(height='25px', width='50%'),…"
      ]
     },
     "metadata": {},
     "output_type": "display_data"
    },
    {
     "name": "stdout",
     "output_type": "stream",
     "text": [
      "-RECORD 0-------------------------------\n",
      " ID                  | 5008804          \n",
      " CODE_GENDER         | M                \n",
      " FLAG_OWN_CAR        | Y                \n",
      " FLAG_OWN_REALTY     | Y                \n",
      " CNT_CHILDREN        | 0                \n",
      " AMT_INCOME_TOTAL    | 427500.0         \n",
      " NAME_INCOME_TYPE    | Working          \n",
      " NAME_EDUCATION_TYPE | Higher education \n",
      " NAME_FAMILY_STATUS  | Civil marriage   \n",
      " NAME_HOUSING_TYPE   | Rented apartment \n",
      " AGE_YEARS           | 33               \n",
      " YEARS_EMPLOYED      | 12               \n",
      " FLAG_MOBIL          | 1                \n",
      " FLAG_WORK_PHONE     | 1                \n",
      " FLAG_PHONE          | 0                \n",
      " FLAG_EMAIL          | 0                \n",
      " CNT_FAM_MEMBERS     | 2                \n",
      " STATUS              | 1                \n",
      "only showing top 1 row"
     ]
    }
   ],
   "source": [
    "#take a look at the df, and let's show just one record for simplicity\n",
    "df.show(1, vertical=True)"
   ]
  },
  {
   "cell_type": "code",
   "execution_count": null,
   "id": "6b551cd0",
   "metadata": {},
   "outputs": [],
   "source": [
    "#Record sucessfully showed"
   ]
  },
  {
   "cell_type": "code",
   "execution_count": null,
   "id": "76de6ec0",
   "metadata": {},
   "outputs": [],
   "source": []
  },
  {
   "cell_type": "code",
   "execution_count": null,
   "id": "6e04cd3a",
   "metadata": {},
   "outputs": [],
   "source": []
  },
  {
   "cell_type": "code",
   "execution_count": 3,
   "id": "1aa14858",
   "metadata": {},
   "outputs": [
    {
     "data": {
      "application/vnd.jupyter.widget-view+json": {
       "model_id": "55e346686bd4484cb5e6ca22a6173cd7",
       "version_major": 2,
       "version_minor": 0
      },
      "text/plain": [
       "VBox()"
      ]
     },
     "metadata": {},
     "output_type": "display_data"
    },
    {
     "data": {
      "application/vnd.jupyter.widget-view+json": {
       "model_id": "",
       "version_major": 2,
       "version_minor": 0
      },
      "text/plain": [
       "FloatProgress(value=0.0, bar_style='info', description='Progress:', layout=Layout(height='25px', width='50%'),…"
      ]
     },
     "metadata": {},
     "output_type": "display_data"
    },
    {
     "name": "stdout",
     "output_type": "stream",
     "text": [
      "36457 36457\n",
      "0"
     ]
    }
   ],
   "source": [
    "\"\"\"\n",
    "2.\n",
    "    Check duplicate first, then check missing value\n",
    "\"\"\"\n",
    "# Let's check duplicate first, we'll print out the number of rows vs number of distinct row\n",
    "# We'll also count the number of duplicate ID because that's critical to check\n",
    "print(df.count(), df.distinct().count())\n",
    "df.rdd.map(\n",
    "           lambda row: (\n",
    "                 row['ID']\n",
    "               , sum([c == None for c in row])\n",
    "           )\n",
    "        )\\\n",
    "        .filter(lambda el: el[1] >= 1)\\\n",
    "        .count()"
   ]
  },
  {
   "cell_type": "code",
   "execution_count": null,
   "id": "b9dbb437",
   "metadata": {},
   "outputs": [],
   "source": [
    "# 36457 seems like there is no duplicate, and 0 means there is no duplicate for ID columns\n",
    "# So we don't need to remove duplicate in this case"
   ]
  },
  {
   "cell_type": "code",
   "execution_count": 4,
   "id": "281b0d29",
   "metadata": {},
   "outputs": [
    {
     "data": {
      "application/vnd.jupyter.widget-view+json": {
       "model_id": "d40160eba73c4b6a87ab7de6c42eb3bd",
       "version_major": 2,
       "version_minor": 0
      },
      "text/plain": [
       "VBox()"
      ]
     },
     "metadata": {},
     "output_type": "display_data"
    },
    {
     "data": {
      "application/vnd.jupyter.widget-view+json": {
       "model_id": "",
       "version_major": 2,
       "version_minor": 0
      },
      "text/plain": [
       "FloatProgress(value=0.0, bar_style='info', description='Progress:', layout=Layout(height='25px', width='50%'),…"
      ]
     },
     "metadata": {},
     "output_type": "display_data"
    },
    {
     "name": "stdout",
     "output_type": "stream",
     "text": [
      "0"
     ]
    }
   ],
   "source": [
    "# Let's check missing value, we'll print out the number of missing rows\n",
    "print(df.rdd.map(\n",
    "           lambda row: (\n",
    "                 row['ID']\n",
    "               , sum([c == None for c in row])\n",
    "           )\n",
    "        )\\\n",
    "        .filter(lambda el: el[1] >= 1)\\\n",
    "        .count())"
   ]
  },
  {
   "cell_type": "code",
   "execution_count": null,
   "id": "8d480bdc",
   "metadata": {},
   "outputs": [],
   "source": [
    "#Fortunately, 0 means there is no missing value, we can move to the next step"
   ]
  },
  {
   "cell_type": "code",
   "execution_count": null,
   "id": "56612710",
   "metadata": {},
   "outputs": [],
   "source": []
  },
  {
   "cell_type": "code",
   "execution_count": null,
   "id": "c434bd61",
   "metadata": {},
   "outputs": [],
   "source": []
  },
  {
   "cell_type": "code",
   "execution_count": 5,
   "id": "4bf894f3",
   "metadata": {},
   "outputs": [
    {
     "data": {
      "application/vnd.jupyter.widget-view+json": {
       "model_id": "833200eb733a4645aeb039d5bb27560f",
       "version_major": 2,
       "version_minor": 0
      },
      "text/plain": [
       "VBox()"
      ]
     },
     "metadata": {},
     "output_type": "display_data"
    },
    {
     "data": {
      "application/vnd.jupyter.widget-view+json": {
       "model_id": "",
       "version_major": 2,
       "version_minor": 0
      },
      "text/plain": [
       "FloatProgress(value=0.0, bar_style='info', description='Progress:', layout=Layout(height='25px', width='50%'),…"
      ]
     },
     "metadata": {},
     "output_type": "display_data"
    },
    {
     "name": "stdout",
     "output_type": "stream",
     "text": [
      "+-------+-------------------+\n",
      "|summary|       CNT_CHILDREN|\n",
      "+-------+-------------------+\n",
      "|  count|              36457|\n",
      "|   mean|0.43031516581177826|\n",
      "| stddev| 0.7423669007186852|\n",
      "|    min|                  0|\n",
      "|    max|                 19|\n",
      "+-------+-------------------+\n",
      "\n",
      "None"
     ]
    }
   ],
   "source": [
    "'''\n",
    "3.\n",
    "    Descriptive statistics and interpretation\n",
    "'''\n",
    "#These code will generate descriptive statistics\n",
    "#There are many columns that's not suitable for descriptive statistics.\n",
    "#We'll only show the fit ones, total of four.\n",
    "print(df.select('CNT_CHILDREN').describe().show())"
   ]
  },
  {
   "cell_type": "code",
   "execution_count": null,
   "id": "c7b5ae08",
   "metadata": {},
   "outputs": [],
   "source": [
    "#For Number of children column, we can see that there are 36457 records\n",
    "#Mean and SD are not really meaningful here, but min and max we can see one client has 19 children"
   ]
  },
  {
   "cell_type": "code",
   "execution_count": 6,
   "id": "7e43fa33",
   "metadata": {},
   "outputs": [
    {
     "data": {
      "application/vnd.jupyter.widget-view+json": {
       "model_id": "6114ce056b4e40668378a0289a532c1c",
       "version_major": 2,
       "version_minor": 0
      },
      "text/plain": [
       "VBox()"
      ]
     },
     "metadata": {},
     "output_type": "display_data"
    },
    {
     "data": {
      "application/vnd.jupyter.widget-view+json": {
       "model_id": "",
       "version_major": 2,
       "version_minor": 0
      },
      "text/plain": [
       "FloatProgress(value=0.0, bar_style='info', description='Progress:', layout=Layout(height='25px', width='50%'),…"
      ]
     },
     "metadata": {},
     "output_type": "display_data"
    },
    {
     "name": "stdout",
     "output_type": "stream",
     "text": [
      "+-------+------------------+\n",
      "|summary|  AMT_INCOME_TOTAL|\n",
      "+-------+------------------+\n",
      "|  count|             36457|\n",
      "|   mean|186685.73666236937|\n",
      "| stddev|101789.22648234623|\n",
      "|    min|           27000.0|\n",
      "|    max|         1575000.0|\n",
      "+-------+------------------+\n",
      "\n",
      "None"
     ]
    }
   ],
   "source": [
    "#This code will show the annual income statistic\n",
    "print(df.select('AMT_INCOME_TOTAL').describe().show())"
   ]
  },
  {
   "cell_type": "code",
   "execution_count": null,
   "id": "45c6f62f",
   "metadata": {},
   "outputs": [],
   "source": [
    "#Total of 36457 records, and the mean is about 186685\n",
    "#Looking at the max value, it's a outliers for sure. Same thing applies to min value, 27000 is pretty low"
   ]
  },
  {
   "cell_type": "code",
   "execution_count": 7,
   "id": "ea396d28",
   "metadata": {},
   "outputs": [
    {
     "data": {
      "application/vnd.jupyter.widget-view+json": {
       "model_id": "d5f2ae8badde4a2c997d6712d0cfa7fe",
       "version_major": 2,
       "version_minor": 0
      },
      "text/plain": [
       "VBox()"
      ]
     },
     "metadata": {},
     "output_type": "display_data"
    },
    {
     "data": {
      "application/vnd.jupyter.widget-view+json": {
       "model_id": "",
       "version_major": 2,
       "version_minor": 0
      },
      "text/plain": [
       "FloatProgress(value=0.0, bar_style='info', description='Progress:', layout=Layout(height='25px', width='50%'),…"
      ]
     },
     "metadata": {},
     "output_type": "display_data"
    },
    {
     "name": "stdout",
     "output_type": "stream",
     "text": [
      "+-------+-----------------+\n",
      "|summary|   YEARS_EMPLOYED|\n",
      "+-------+-----------------+\n",
      "|  count|            36457|\n",
      "|   mean|6.038099679073977|\n",
      "| stddev|6.489479508635842|\n",
      "|    min|                0|\n",
      "|    max|               43|\n",
      "+-------+-----------------+\n",
      "\n",
      "None"
     ]
    }
   ],
   "source": [
    "#This code will show the years of employed statistic\n",
    "print(df.select('YEARS_EMPLOYED').describe().show())"
   ]
  },
  {
   "cell_type": "code",
   "execution_count": null,
   "id": "93e4b529",
   "metadata": {},
   "outputs": [],
   "source": [
    "#Average for 6 yrs of employed for many client\n",
    "#Of course, there may be many people never had a job, so it shows 0\n",
    "#The highest value is 43 yrs, it's so long for one to stay in one company"
   ]
  },
  {
   "cell_type": "code",
   "execution_count": 8,
   "id": "64b98aa1",
   "metadata": {},
   "outputs": [
    {
     "data": {
      "application/vnd.jupyter.widget-view+json": {
       "model_id": "33f511701ad54dd6ab982a31a57274a9",
       "version_major": 2,
       "version_minor": 0
      },
      "text/plain": [
       "VBox()"
      ]
     },
     "metadata": {},
     "output_type": "display_data"
    },
    {
     "data": {
      "application/vnd.jupyter.widget-view+json": {
       "model_id": "",
       "version_major": 2,
       "version_minor": 0
      },
      "text/plain": [
       "FloatProgress(value=0.0, bar_style='info', description='Progress:', layout=Layout(height='25px', width='50%'),…"
      ]
     },
     "metadata": {},
     "output_type": "display_data"
    },
    {
     "name": "stdout",
     "output_type": "stream",
     "text": [
      "+-------+------------------+\n",
      "|summary|   CNT_FAM_MEMBERS|\n",
      "+-------+------------------+\n",
      "|  count|             36457|\n",
      "|   mean| 2.198452971994404|\n",
      "| stddev|0.9116861437101033|\n",
      "|    min|                 1|\n",
      "|    max|                20|\n",
      "+-------+------------------+\n",
      "\n",
      "None"
     ]
    }
   ],
   "source": [
    "#Last column for statistic. This code will show the number of family members, or family size statistic\n",
    "print(df.select('CNT_FAM_MEMBERS').describe().show())"
   ]
  },
  {
   "cell_type": "code",
   "execution_count": null,
   "id": "137ea75d",
   "metadata": {},
   "outputs": [],
   "source": [
    "#Average family size is about 2. It's shocking to see one client has 20 family members\n",
    "#The min value shows 1 is because the number including the clients themselve, so the lowest number is 1"
   ]
  },
  {
   "cell_type": "code",
   "execution_count": null,
   "id": "527411e0",
   "metadata": {},
   "outputs": [],
   "source": [
    "#Three out of four variables we plan to do removing outliers later\n",
    "#That's why we show them in this steps to get some basic statistics and having a clearer picture"
   ]
  },
  {
   "cell_type": "code",
   "execution_count": null,
   "id": "b9f74a03",
   "metadata": {},
   "outputs": [],
   "source": []
  },
  {
   "cell_type": "code",
   "execution_count": null,
   "id": "4c79201e",
   "metadata": {},
   "outputs": [],
   "source": []
  },
  {
   "cell_type": "code",
   "execution_count": null,
   "id": "770d6e9a",
   "metadata": {},
   "outputs": [],
   "source": [
    "'''\n",
    "4.\n",
    "    Visualization\n",
    "'''"
   ]
  },
  {
   "cell_type": "code",
   "execution_count": null,
   "id": "1390c67b",
   "metadata": {},
   "outputs": [],
   "source": [
    "#We'll install matplotlib first, then restart the kernal"
   ]
  },
  {
   "cell_type": "code",
   "execution_count": 27,
   "id": "a97c5a93",
   "metadata": {},
   "outputs": [
    {
     "name": "stdout",
     "output_type": "stream",
     "text": [
      "Requirement already satisfied: matplotlib in /usr/local/lib64/python3.7/site-packages\n",
      "Requirement already satisfied: kiwisolver>=1.0.1 in /usr/local/lib64/python3.7/site-packages (from matplotlib)\n",
      "Requirement already satisfied: cycler>=0.10 in /usr/local/lib/python3.7/site-packages (from matplotlib)\n",
      "Requirement already satisfied: pillow>=6.2.0 in /usr/local/lib64/python3.7/site-packages (from matplotlib)\n",
      "Requirement already satisfied: pyparsing>=2.2.1 in /usr/local/lib/python3.7/site-packages (from matplotlib)\n",
      "Requirement already satisfied: numpy>=1.16 in /usr/local/lib64/python3.7/site-packages (from matplotlib)\n",
      "Requirement already satisfied: python-dateutil>=2.7 in /usr/local/lib/python3.7/site-packages (from matplotlib)\n",
      "Requirement already satisfied: six in /usr/local/lib/python3.7/site-packages (from cycler>=0.10->matplotlib)\n"
     ]
    }
   ],
   "source": [
    "%%local\n",
    "!pip3 install --user matplotlib"
   ]
  },
  {
   "cell_type": "code",
   "execution_count": 3,
   "id": "59897e5d",
   "metadata": {},
   "outputs": [
    {
     "data": {
      "application/vnd.jupyter.widget-view+json": {
       "model_id": "971fb880bf304c459a4f87b9d03f3d30",
       "version_major": 2,
       "version_minor": 0
      },
      "text/plain": [
       "VBox()"
      ]
     },
     "metadata": {},
     "output_type": "display_data"
    },
    {
     "data": {
      "application/vnd.jupyter.widget-view+json": {
       "model_id": "",
       "version_major": 2,
       "version_minor": 0
      },
      "text/plain": [
       "FloatProgress(value=0.0, bar_style='info', description='Progress:', layout=Layout(height='25px', width='50%'),…"
      ]
     },
     "metadata": {},
     "output_type": "display_data"
    },
    {
     "data": {
      "image/png": "[encoded data removed]",
      "text/plain": [
       "<IPython.core.display.Image object>"
      ]
     },
     "metadata": {},
     "output_type": "display_data"
    }
   ],
   "source": [
    "#Test out if it works\n",
    "import matplotlib.pyplot as plt\n",
    "import numpy as np\n",
    "from matplotlib.pyplot import figure\n",
    "\n",
    "t = np.arange(0.0, 2.0, 0.01)\n",
    "s = 1 + np.sin(2 * np.pi * t)\n",
    "fig, ax = plt.subplots()\n",
    "ax.plot(t, s)\n",
    "ax.set(xlabel='time (s)', ylabel='voltage (mV)', title='Test successful')\n",
    "ax.grid()\n",
    "plt.show()\n",
    "%matplot plt"
   ]
  },
  {
   "cell_type": "code",
   "execution_count": null,
   "id": "df5c170c",
   "metadata": {},
   "outputs": [],
   "source": [
    "#Success for testing, and can move on\n",
    "#Starting with numerical columns, the first one would be number of children"
   ]
  },
  {
   "cell_type": "code",
   "execution_count": 10,
   "id": "911e33e7",
   "metadata": {},
   "outputs": [
    {
     "data": {
      "application/vnd.jupyter.widget-view+json": {
       "model_id": "3d9d8b35ff2b4435ab146c5d191c1834",
       "version_major": 2,
       "version_minor": 0
      },
      "text/plain": [
       "VBox()"
      ]
     },
     "metadata": {},
     "output_type": "display_data"
    },
    {
     "data": {
      "application/vnd.jupyter.widget-view+json": {
       "model_id": "",
       "version_major": 2,
       "version_minor": 0
      },
      "text/plain": [
       "FloatProgress(value=0.0, bar_style='info', description='Progress:', layout=Layout(height='25px', width='50%'),…"
      ]
     },
     "metadata": {},
     "output_type": "display_data"
    },
    {
     "name": "stdout",
     "output_type": "stream",
     "text": [
      "[0.0,6.33)\n",
      "[6.33,12.67)\n",
      "[12.67,19)\n",
      "[(0.0, 36451), (6.333333333333333, 2), (12.666666666666666, 4)]"
     ]
    }
   ],
   "source": [
    "#Getting bin first, and the counts\n",
    "histogram_chd = df.select('CNT_CHILDREN').rdd.flatMap(lambda x: x).histogram(3)\n",
    "for i in range(len(histogram_chd[0]) - 1):\n",
    "    print('[' + str(round(histogram_chd[0][i], 2)) + ',' +\n",
    "          str(round(histogram_chd[0][i + 1], 2)) + ')')\n",
    "sorted(zip(*histogram_chd))"
   ]
  },
  {
   "cell_type": "code",
   "execution_count": 11,
   "id": "b06f56a8",
   "metadata": {},
   "outputs": [
    {
     "data": {
      "application/vnd.jupyter.widget-view+json": {
       "model_id": "b6c9498e401f45c58f82f1013974cfd2",
       "version_major": 2,
       "version_minor": 0
      },
      "text/plain": [
       "VBox()"
      ]
     },
     "metadata": {},
     "output_type": "display_data"
    },
    {
     "data": {
      "application/vnd.jupyter.widget-view+json": {
       "model_id": "",
       "version_major": 2,
       "version_minor": 0
      },
      "text/plain": [
       "FloatProgress(value=0.0, bar_style='info', description='Progress:', layout=Layout(height='25px', width='50%'),…"
      ]
     },
     "metadata": {},
     "output_type": "display_data"
    },
    {
     "data": {
      "image/png": "[encoded data removed]",
      "text/plain": [
       "<IPython.core.display.Image object>"
      ]
     },
     "metadata": {},
     "output_type": "display_data"
    }
   ],
   "source": [
    "#Ready for visualization\n",
    "df.select('CNT_CHILDREN').toPandas().hist()\n",
    "%matplot plt"
   ]
  },
  {
   "cell_type": "code",
   "execution_count": null,
   "id": "a15c2194",
   "metadata": {},
   "outputs": [],
   "source": [
    "#Total of 36451 records fall into bin one, only 2 records fall into bin two, and 4 are in bin three\n",
    "#This can tell us majority of people have less than 6 children, or more specificly, most people have 0 children \n",
    "#bin two and bin three are consider outliers"
   ]
  },
  {
   "cell_type": "code",
   "execution_count": null,
   "id": "b198f0de",
   "metadata": {},
   "outputs": [],
   "source": []
  },
  {
   "cell_type": "code",
   "execution_count": 12,
   "id": "b5b851cb",
   "metadata": {},
   "outputs": [
    {
     "data": {
      "application/vnd.jupyter.widget-view+json": {
       "model_id": "636f17e9204a46ca816f639479afb59e",
       "version_major": 2,
       "version_minor": 0
      },
      "text/plain": [
       "VBox()"
      ]
     },
     "metadata": {},
     "output_type": "display_data"
    },
    {
     "data": {
      "application/vnd.jupyter.widget-view+json": {
       "model_id": "",
       "version_major": 2,
       "version_minor": 0
      },
      "text/plain": [
       "FloatProgress(value=0.0, bar_style='info', description='Progress:', layout=Layout(height='25px', width='50%'),…"
      ]
     },
     "metadata": {},
     "output_type": "display_data"
    },
    {
     "name": "stdout",
     "output_type": "stream",
     "text": [
      "[27000.0,336600.0)\n",
      "[336600.0,646200.0)\n",
      "[646200.0,955800.0)\n",
      "[955800.0,1265400.0)\n",
      "[1265400.0,1575000.0)\n",
      "[(27000.0, 33840), (336600.0, 2373), (646200.0, 223), (955800.0, 7), (1265400.0, 14)]"
     ]
    }
   ],
   "source": [
    "#Continue with numerical columns, the next one would be annual income\n",
    "#Getting bin first, and the counts\n",
    "histogram= df.select('AMT_INCOME_TOTAL').rdd.flatMap(lambda x: x).histogram(5)\n",
    "for i in range(len(histogram[0]) - 1):\n",
    "    print('[' + str(round(histogram[0][i], 2)) + ',' +\n",
    "          str(round(histogram[0][i + 1], 2)) + ')')\n",
    "sorted(zip(*histogram))"
   ]
  },
  {
   "cell_type": "code",
   "execution_count": 13,
   "id": "7837aa9b",
   "metadata": {},
   "outputs": [
    {
     "data": {
      "application/vnd.jupyter.widget-view+json": {
       "model_id": "4afd7b54b9564df3a38128c7513ddcdf",
       "version_major": 2,
       "version_minor": 0
      },
      "text/plain": [
       "VBox()"
      ]
     },
     "metadata": {},
     "output_type": "display_data"
    },
    {
     "data": {
      "application/vnd.jupyter.widget-view+json": {
       "model_id": "",
       "version_major": 2,
       "version_minor": 0
      },
      "text/plain": [
       "FloatProgress(value=0.0, bar_style='info', description='Progress:', layout=Layout(height='25px', width='50%'),…"
      ]
     },
     "metadata": {},
     "output_type": "display_data"
    },
    {
     "data": {
      "image/png": "[encoded data removed]",
      "text/plain": [
       "<IPython.core.display.Image object>"
      ]
     },
     "metadata": {},
     "output_type": "display_data"
    }
   ],
   "source": [
    "#Ready for visualization\n",
    "df.select('AMT_INCOME_TOTAL').toPandas().hist()\n",
    "%matplot plt"
   ]
  },
  {
   "cell_type": "code",
   "execution_count": null,
   "id": "cd2009d7",
   "metadata": {},
   "outputs": [],
   "source": [
    "#Divided the data into 5 bins\n",
    "#33840 peoples' annual income is between 27000 to 336600\n",
    "#Bin two's range is 336600 to 646200, there are 2373 people in this range\n",
    "#Other bins can be considered as outliers"
   ]
  },
  {
   "cell_type": "code",
   "execution_count": null,
   "id": "4248484e",
   "metadata": {},
   "outputs": [],
   "source": []
  },
  {
   "cell_type": "code",
   "execution_count": 14,
   "id": "30c79d1d",
   "metadata": {},
   "outputs": [
    {
     "data": {
      "application/vnd.jupyter.widget-view+json": {
       "model_id": "c3b78859c2f04f5090410102472d04b2",
       "version_major": 2,
       "version_minor": 0
      },
      "text/plain": [
       "VBox()"
      ]
     },
     "metadata": {},
     "output_type": "display_data"
    },
    {
     "data": {
      "application/vnd.jupyter.widget-view+json": {
       "model_id": "",
       "version_major": 2,
       "version_minor": 0
      },
      "text/plain": [
       "FloatProgress(value=0.0, bar_style='info', description='Progress:', layout=Layout(height='25px', width='50%'),…"
      ]
     },
     "metadata": {},
     "output_type": "display_data"
    },
    {
     "name": "stdout",
     "output_type": "stream",
     "text": [
      "[21.0,30.6)\n",
      "[30.6,40.2)\n",
      "[40.2,49.8)\n",
      "[49.8,59.4)\n",
      "[59.4,69)\n",
      "[(21.0, 5526), (30.6, 10389), (40.2, 8370), (49.8, 7904), (59.4, 4268)]"
     ]
    }
   ],
   "source": [
    "#Continue with numerical columns, the next one would be age\n",
    "#Getting bin first, and the counts\n",
    "histogram= df.select('AGE_YEARS').rdd.flatMap(lambda x: x).histogram(5)\n",
    "for i in range(len(histogram[0]) - 1):\n",
    "    print('[' + str(round(histogram[0][i], 2)) + ',' +\n",
    "          str(round(histogram[0][i + 1], 2)) + ')')\n",
    "sorted(zip(*histogram))"
   ]
  },
  {
   "cell_type": "code",
   "execution_count": 15,
   "id": "925b2979",
   "metadata": {},
   "outputs": [
    {
     "data": {
      "application/vnd.jupyter.widget-view+json": {
       "model_id": "557022fb10a24c3292a60caba0af3fe8",
       "version_major": 2,
       "version_minor": 0
      },
      "text/plain": [
       "VBox()"
      ]
     },
     "metadata": {},
     "output_type": "display_data"
    },
    {
     "data": {
      "application/vnd.jupyter.widget-view+json": {
       "model_id": "",
       "version_major": 2,
       "version_minor": 0
      },
      "text/plain": [
       "FloatProgress(value=0.0, bar_style='info', description='Progress:', layout=Layout(height='25px', width='50%'),…"
      ]
     },
     "metadata": {},
     "output_type": "display_data"
    },
    {
     "data": {
      "image/png": "[encoded data removed]",
      "text/plain": [
       "<IPython.core.display.Image object>"
      ]
     },
     "metadata": {},
     "output_type": "display_data"
    }
   ],
   "source": [
    "#Ready for visualization\n",
    "df.select('AGE_YEARS').toPandas().hist()\n",
    "%matplot plt"
   ]
  },
  {
   "cell_type": "code",
   "execution_count": null,
   "id": "7afe7f4a",
   "metadata": {},
   "outputs": [],
   "source": [
    "#It's not like a bell curve\n",
    "#5526 people are between age 21 to 30, although we expect people in these ages needs credit card\n",
    "#10389 people are between age 30 to 40, these age range is those who already have family\n",
    "#Other bins seem fine. \n",
    "#One interesting thing to see that still many people between age 59 to 69 are applying credit card"
   ]
  },
  {
   "cell_type": "code",
   "execution_count": null,
   "id": "16d53ab2",
   "metadata": {},
   "outputs": [],
   "source": []
  },
  {
   "cell_type": "code",
   "execution_count": 16,
   "id": "3f34ce05",
   "metadata": {},
   "outputs": [
    {
     "data": {
      "application/vnd.jupyter.widget-view+json": {
       "model_id": "4758c8f60f28486a84a9ab9fed2a6835",
       "version_major": 2,
       "version_minor": 0
      },
      "text/plain": [
       "VBox()"
      ]
     },
     "metadata": {},
     "output_type": "display_data"
    },
    {
     "data": {
      "application/vnd.jupyter.widget-view+json": {
       "model_id": "",
       "version_major": 2,
       "version_minor": 0
      },
      "text/plain": [
       "FloatProgress(value=0.0, bar_style='info', description='Progress:', layout=Layout(height='25px', width='50%'),…"
      ]
     },
     "metadata": {},
     "output_type": "display_data"
    },
    {
     "name": "stdout",
     "output_type": "stream",
     "text": [
      "[0.0,6.14)\n",
      "[6.14,12.29)\n",
      "[12.29,18.43)\n",
      "[18.43,24.57)\n",
      "[24.57,30.71)\n",
      "[30.71,36.86)\n",
      "[36.86,43)\n",
      "[(0.0, 23444), (6.142857142857143, 8082), (12.285714285714286, 2776), (18.42857142857143, 1318), (24.571428571428573, 549), (30.714285714285715, 205), (36.85714285714286, 83)]"
     ]
    }
   ],
   "source": [
    "#Continue with numerical columns, the next one would be yrs employed\n",
    "#Getting bin first, and the counts\n",
    "histogram = df.select('YEARS_EMPLOYED').rdd.flatMap(lambda x: x).histogram(7)\n",
    "for i in range(len(histogram[0]) - 1):\n",
    "    print('[' + str(round(histogram[0][i], 2)) + ',' +\n",
    "          str(round(histogram[0][i + 1], 2)) + ')')\n",
    "sorted(zip(*histogram))"
   ]
  },
  {
   "cell_type": "code",
   "execution_count": 17,
   "id": "520cbf07",
   "metadata": {},
   "outputs": [
    {
     "data": {
      "application/vnd.jupyter.widget-view+json": {
       "model_id": "c59233b0dfd44b29ac4703ad62e81325",
       "version_major": 2,
       "version_minor": 0
      },
      "text/plain": [
       "VBox()"
      ]
     },
     "metadata": {},
     "output_type": "display_data"
    },
    {
     "data": {
      "application/vnd.jupyter.widget-view+json": {
       "model_id": "",
       "version_major": 2,
       "version_minor": 0
      },
      "text/plain": [
       "FloatProgress(value=0.0, bar_style='info', description='Progress:', layout=Layout(height='25px', width='50%'),…"
      ]
     },
     "metadata": {},
     "output_type": "display_data"
    },
    {
     "data": {
      "image/png": "[encoded data removed]",
      "text/plain": [
       "<IPython.core.display.Image object>"
      ]
     },
     "metadata": {},
     "output_type": "display_data"
    }
   ],
   "source": [
    "#Ready for visualization\n",
    "df.select('YEARS_EMPLOYED').toPandas().hist()\n",
    "%matplot plt"
   ]
  },
  {
   "cell_type": "code",
   "execution_count": null,
   "id": "99bb2ca8",
   "metadata": {},
   "outputs": [],
   "source": [
    "#Looking at the trend, we can see that there are fewer people as the employed yrs increase\n",
    "#23444 people are been employed between 0 to 6 yrs, and still have 8082 people been emplyed 6 to 12 yrs\n",
    "#It's really hard for one to stay for a single job that long. This chart really makes common sense"
   ]
  },
  {
   "cell_type": "code",
   "execution_count": null,
   "id": "f078c130",
   "metadata": {},
   "outputs": [],
   "source": []
  },
  {
   "cell_type": "code",
   "execution_count": 18,
   "id": "82e42d7f",
   "metadata": {},
   "outputs": [
    {
     "data": {
      "application/vnd.jupyter.widget-view+json": {
       "model_id": "44b8ce7debf548cbb77c4f9983a8a6ac",
       "version_major": 2,
       "version_minor": 0
      },
      "text/plain": [
       "VBox()"
      ]
     },
     "metadata": {},
     "output_type": "display_data"
    },
    {
     "data": {
      "application/vnd.jupyter.widget-view+json": {
       "model_id": "",
       "version_major": 2,
       "version_minor": 0
      },
      "text/plain": [
       "FloatProgress(value=0.0, bar_style='info', description='Progress:', layout=Layout(height='25px', width='50%'),…"
      ]
     },
     "metadata": {},
     "output_type": "display_data"
    },
    {
     "name": "stdout",
     "output_type": "stream",
     "text": [
      "[1.0,5.75)\n",
      "[5.75,10.5)\n",
      "[10.5,15.25)\n",
      "[15.25,20)\n",
      "[(1.0, 36374), (5.75, 79), (10.5, 3), (15.25, 1)]"
     ]
    }
   ],
   "source": [
    "#Continue with numerical columns, the next one would be family size\n",
    "#Getting bin first, and the counts\n",
    "histogram = df.select('CNT_FAM_MEMBERS').rdd.flatMap(lambda x: x).histogram(4)\n",
    "for i in range(len(histogram[0]) - 1):\n",
    "    print('[' + str(round(histogram[0][i], 2)) + ',' +\n",
    "          str(round(histogram[0][i + 1], 2)) + ')')\n",
    "sorted(zip(*histogram))"
   ]
  },
  {
   "cell_type": "code",
   "execution_count": 19,
   "id": "c049ae76",
   "metadata": {},
   "outputs": [
    {
     "data": {
      "application/vnd.jupyter.widget-view+json": {
       "model_id": "8535dd2816b74e1ab7b3bb965e39ab88",
       "version_major": 2,
       "version_minor": 0
      },
      "text/plain": [
       "VBox()"
      ]
     },
     "metadata": {},
     "output_type": "display_data"
    },
    {
     "data": {
      "application/vnd.jupyter.widget-view+json": {
       "model_id": "",
       "version_major": 2,
       "version_minor": 0
      },
      "text/plain": [
       "FloatProgress(value=0.0, bar_style='info', description='Progress:', layout=Layout(height='25px', width='50%'),…"
      ]
     },
     "metadata": {},
     "output_type": "display_data"
    },
    {
     "data": {
      "image/png": "[encoded data removed]",
      "text/plain": [
       "<IPython.core.display.Image object>"
      ]
     },
     "metadata": {},
     "output_type": "display_data"
    }
   ],
   "source": [
    "#Ready for visualization\n",
    "df.select('CNT_FAM_MEMBERS').toPandas().hist()\n",
    "%matplot plt"
   ]
  },
  {
   "cell_type": "code",
   "execution_count": null,
   "id": "1fbe9c88",
   "metadata": {},
   "outputs": [],
   "source": [
    "#As mentioned before, the min value is 1 because it includes client themselve\n",
    "#Majority of clients having between around 1 to 6 family members\n",
    "#It's hard to see in the graph, there is a outlier which has 20 family members"
   ]
  },
  {
   "cell_type": "code",
   "execution_count": null,
   "id": "62812e2b",
   "metadata": {},
   "outputs": [],
   "source": []
  },
  {
   "cell_type": "code",
   "execution_count": 20,
   "id": "ef797c54",
   "metadata": {},
   "outputs": [
    {
     "data": {
      "application/vnd.jupyter.widget-view+json": {
       "model_id": "c43658ee68c643d989e2440517e94572",
       "version_major": 2,
       "version_minor": 0
      },
      "text/plain": [
       "VBox()"
      ]
     },
     "metadata": {},
     "output_type": "display_data"
    },
    {
     "data": {
      "application/vnd.jupyter.widget-view+json": {
       "model_id": "",
       "version_major": 2,
       "version_minor": 0
      },
      "text/plain": [
       "FloatProgress(value=0.0, bar_style='info', description='Progress:', layout=Layout(height='25px', width='50%'),…"
      ]
     },
     "metadata": {},
     "output_type": "display_data"
    },
    {
     "name": "stdout",
     "output_type": "stream",
     "text": [
      "+-----------+-----+\n",
      "|CODE_GENDER|count|\n",
      "+-----------+-----+\n",
      "|          M|12027|\n",
      "|          F|24430|\n",
      "+-----------+-----+"
     ]
    }
   ],
   "source": [
    "#Time to start with Categorical columns, the first one would be gender\n",
    "#Getting the counts first\n",
    "df.groupBy('CODE_GENDER').count().orderBy('Count').show()"
   ]
  },
  {
   "cell_type": "code",
   "execution_count": 32,
   "id": "0fe9b4e9",
   "metadata": {},
   "outputs": [
    {
     "data": {
      "application/vnd.jupyter.widget-view+json": {
       "model_id": "81d2b5d8bc2347b3bdcded98aa1ad88d",
       "version_major": 2,
       "version_minor": 0
      },
      "text/plain": [
       "VBox()"
      ]
     },
     "metadata": {},
     "output_type": "display_data"
    },
    {
     "data": {
      "application/vnd.jupyter.widget-view+json": {
       "model_id": "",
       "version_major": 2,
       "version_minor": 0
      },
      "text/plain": [
       "FloatProgress(value=0.0, bar_style='info', description='Progress:', layout=Layout(height='25px', width='50%'),…"
      ]
     },
     "metadata": {},
     "output_type": "display_data"
    },
    {
     "data": {
      "image/png": "[encoded data removed]",
      "text/plain": [
       "<IPython.core.display.Image object>"
      ]
     },
     "metadata": {},
     "output_type": "display_data"
    }
   ],
   "source": [
    "#Selected out the columns\n",
    "#Ready for visualization\n",
    "plt.close()\n",
    "df1= df.toPandas()\n",
    "g = df1['CODE_GENDER'].value_counts()\n",
    "plt.bar(g.index,g.values)\n",
    "plt.show()\n",
    "%matplot plt"
   ]
  },
  {
   "cell_type": "code",
   "execution_count": null,
   "id": "cd3f1d4f",
   "metadata": {},
   "outputs": [],
   "source": [
    "#Just as the freqenucy shows, female clients are about double as male clients\n",
    "#We think gender doesn't have siginificant impact toward card approval"
   ]
  },
  {
   "cell_type": "code",
   "execution_count": null,
   "id": "1cbaddb7",
   "metadata": {},
   "outputs": [],
   "source": []
  },
  {
   "cell_type": "code",
   "execution_count": 13,
   "id": "9be9ef3f",
   "metadata": {},
   "outputs": [
    {
     "data": {
      "application/vnd.jupyter.widget-view+json": {
       "model_id": "ee7bca59dc2a415fabb1e01262c6936f",
       "version_major": 2,
       "version_minor": 0
      },
      "text/plain": [
       "VBox()"
      ]
     },
     "metadata": {},
     "output_type": "display_data"
    },
    {
     "data": {
      "application/vnd.jupyter.widget-view+json": {
       "model_id": "",
       "version_major": 2,
       "version_minor": 0
      },
      "text/plain": [
       "FloatProgress(value=0.0, bar_style='info', description='Progress:', layout=Layout(height='25px', width='50%'),…"
      ]
     },
     "metadata": {},
     "output_type": "display_data"
    },
    {
     "name": "stdout",
     "output_type": "stream",
     "text": [
      "+------------+-----+\n",
      "|FLAG_OWN_CAR|count|\n",
      "+------------+-----+\n",
      "|           Y|13843|\n",
      "|           N|22614|\n",
      "+------------+-----+"
     ]
    }
   ],
   "source": [
    "#Continue with Categorical columns, the next one would be whether having car or not\n",
    "#Getting the counts first\n",
    "df.groupBy('FLAG_OWN_CAR').count().orderBy('Count').show()"
   ]
  },
  {
   "cell_type": "code",
   "execution_count": 33,
   "id": "0edef119",
   "metadata": {},
   "outputs": [
    {
     "data": {
      "application/vnd.jupyter.widget-view+json": {
       "model_id": "9275053379c54e9db9d6c1c372e1909e",
       "version_major": 2,
       "version_minor": 0
      },
      "text/plain": [
       "VBox()"
      ]
     },
     "metadata": {},
     "output_type": "display_data"
    },
    {
     "data": {
      "application/vnd.jupyter.widget-view+json": {
       "model_id": "",
       "version_major": 2,
       "version_minor": 0
      },
      "text/plain": [
       "FloatProgress(value=0.0, bar_style='info', description='Progress:', layout=Layout(height='25px', width='50%'),…"
      ]
     },
     "metadata": {},
     "output_type": "display_data"
    },
    {
     "data": {
      "image/png": "[encoded data removed]",
      "text/plain": [
       "<IPython.core.display.Image object>"
      ]
     },
     "metadata": {},
     "output_type": "display_data"
    }
   ],
   "source": [
    "#Selected out the columns\n",
    "#Ready for visualization\n",
    "plt.close()\n",
    "g = df1['FLAG_OWN_CAR'].value_counts()\n",
    "plt.bar(g.index,g.values)\n",
    "plt.show()\n",
    "%matplot plt"
   ]
  },
  {
   "cell_type": "code",
   "execution_count": null,
   "id": "e3be7ebb",
   "metadata": {},
   "outputs": [],
   "source": [
    "#From the bar chart, we can see many people don't have a car\n",
    "#13843 people have a car maybe implies their living quality is bit higher"
   ]
  },
  {
   "cell_type": "code",
   "execution_count": null,
   "id": "c7fcba84",
   "metadata": {},
   "outputs": [],
   "source": []
  },
  {
   "cell_type": "code",
   "execution_count": 14,
   "id": "96413de5",
   "metadata": {},
   "outputs": [
    {
     "data": {
      "application/vnd.jupyter.widget-view+json": {
       "model_id": "97321260b55f4287af038129ce3b9c9b",
       "version_major": 2,
       "version_minor": 0
      },
      "text/plain": [
       "VBox()"
      ]
     },
     "metadata": {},
     "output_type": "display_data"
    },
    {
     "data": {
      "application/vnd.jupyter.widget-view+json": {
       "model_id": "",
       "version_major": 2,
       "version_minor": 0
      },
      "text/plain": [
       "FloatProgress(value=0.0, bar_style='info', description='Progress:', layout=Layout(height='25px', width='50%'),…"
      ]
     },
     "metadata": {},
     "output_type": "display_data"
    },
    {
     "name": "stdout",
     "output_type": "stream",
     "text": [
      "+---------------+-----+\n",
      "|FLAG_OWN_REALTY|count|\n",
      "+---------------+-----+\n",
      "|              N|11951|\n",
      "|              Y|24506|\n",
      "+---------------+-----+"
     ]
    }
   ],
   "source": [
    "#Continue with Categorical columns, the next one would be whether having realty or not\n",
    "#Getting the counts first\n",
    "df.groupBy('FLAG_OWN_REALTY').count().orderBy('Count').show()"
   ]
  },
  {
   "cell_type": "code",
   "execution_count": 10,
   "id": "dc300ee1",
   "metadata": {},
   "outputs": [
    {
     "data": {
      "application/vnd.jupyter.widget-view+json": {
       "model_id": "7bdbe9c112724c99829ebcba08e0c2e6",
       "version_major": 2,
       "version_minor": 0
      },
      "text/plain": [
       "VBox()"
      ]
     },
     "metadata": {},
     "output_type": "display_data"
    },
    {
     "data": {
      "application/vnd.jupyter.widget-view+json": {
       "model_id": "",
       "version_major": 2,
       "version_minor": 0
      },
      "text/plain": [
       "FloatProgress(value=0.0, bar_style='info', description='Progress:', layout=Layout(height='25px', width='50%'),…"
      ]
     },
     "metadata": {},
     "output_type": "display_data"
    },
    {
     "data": {
      "image/png": "[encoded data removed]",
      "text/plain": [
       "<IPython.core.display.Image object>"
      ]
     },
     "metadata": {},
     "output_type": "display_data"
    }
   ],
   "source": [
    "#Selected out the columns\n",
    "#Ready for visualization\n",
    "plt.close()\n",
    "g = df1['FLAG_OWN_REALTY'].value_counts()\n",
    "plt.bar(g.index,g.values)\n",
    "plt.show()\n",
    "%matplot plt"
   ]
  },
  {
   "cell_type": "code",
   "execution_count": null,
   "id": "17e344f4",
   "metadata": {},
   "outputs": [],
   "source": [
    "#The chart shows that majority of people have realty. There are 11951 people who don't have"
   ]
  },
  {
   "cell_type": "code",
   "execution_count": null,
   "id": "966de846",
   "metadata": {},
   "outputs": [],
   "source": []
  },
  {
   "cell_type": "code",
   "execution_count": 18,
   "id": "d7d7aeff",
   "metadata": {},
   "outputs": [
    {
     "data": {
      "application/vnd.jupyter.widget-view+json": {
       "model_id": "0a2a80c4cfb3463392ad8ad289954cdc",
       "version_major": 2,
       "version_minor": 0
      },
      "text/plain": [
       "VBox()"
      ]
     },
     "metadata": {},
     "output_type": "display_data"
    },
    {
     "data": {
      "application/vnd.jupyter.widget-view+json": {
       "model_id": "",
       "version_major": 2,
       "version_minor": 0
      },
      "text/plain": [
       "FloatProgress(value=0.0, bar_style='info', description='Progress:', layout=Layout(height='25px', width='50%'),…"
      ]
     },
     "metadata": {},
     "output_type": "display_data"
    },
    {
     "name": "stdout",
     "output_type": "stream",
     "text": [
      "+--------------------+-----+\n",
      "|    NAME_INCOME_TYPE|count|\n",
      "+--------------------+-----+\n",
      "|             Student|   11|\n",
      "|       State servant| 2985|\n",
      "|           Pensioner| 6152|\n",
      "|Commercial associate| 8490|\n",
      "|             Working|18819|\n",
      "+--------------------+-----+"
     ]
    }
   ],
   "source": [
    "#Continue with Categorical columns, the next one would be income category\n",
    "#Getting the counts first\n",
    "df.groupBy('NAME_INCOME_TYPE').count().orderBy('Count').show()"
   ]
  },
  {
   "cell_type": "code",
   "execution_count": 20,
   "id": "f4574dbe",
   "metadata": {},
   "outputs": [
    {
     "data": {
      "application/vnd.jupyter.widget-view+json": {
       "model_id": "6cfdb705b9a8490b8f07837ce7bef70e",
       "version_major": 2,
       "version_minor": 0
      },
      "text/plain": [
       "VBox()"
      ]
     },
     "metadata": {},
     "output_type": "display_data"
    },
    {
     "data": {
      "application/vnd.jupyter.widget-view+json": {
       "model_id": "",
       "version_major": 2,
       "version_minor": 0
      },
      "text/plain": [
       "FloatProgress(value=0.0, bar_style='info', description='Progress:', layout=Layout(height='25px', width='50%'),…"
      ]
     },
     "metadata": {},
     "output_type": "display_data"
    },
    {
     "data": {
      "image/png": "[encoded data removed]",
      "text/plain": [
       "<IPython.core.display.Image object>"
      ]
     },
     "metadata": {},
     "output_type": "display_data"
    }
   ],
   "source": [
    "#Selected out the columns\n",
    "#Ready for visualization\n",
    "plt.close()\n",
    "g = df1['NAME_INCOME_TYPE'].value_counts()\n",
    "figure(figsize=(10, 10), dpi=80)\n",
    "plt.bar(g.index,g.values)\n",
    "plt.show()\n",
    "%matplot plt"
   ]
  },
  {
   "cell_type": "code",
   "execution_count": null,
   "id": "661a9633",
   "metadata": {},
   "outputs": [],
   "source": [
    "#We can see that most people are working\n",
    "#It's intresting to see only 11 studetns are applying credit card"
   ]
  },
  {
   "cell_type": "code",
   "execution_count": null,
   "id": "fff04e23",
   "metadata": {},
   "outputs": [],
   "source": []
  },
  {
   "cell_type": "code",
   "execution_count": 21,
   "id": "41862a49",
   "metadata": {},
   "outputs": [
    {
     "data": {
      "application/vnd.jupyter.widget-view+json": {
       "model_id": "83450720525146ceb37a4f4ead79cfa8",
       "version_major": 2,
       "version_minor": 0
      },
      "text/plain": [
       "VBox()"
      ]
     },
     "metadata": {},
     "output_type": "display_data"
    },
    {
     "data": {
      "application/vnd.jupyter.widget-view+json": {
       "model_id": "",
       "version_major": 2,
       "version_minor": 0
      },
      "text/plain": [
       "FloatProgress(value=0.0, bar_style='info', description='Progress:', layout=Layout(height='25px', width='50%'),…"
      ]
     },
     "metadata": {},
     "output_type": "display_data"
    },
    {
     "name": "stdout",
     "output_type": "stream",
     "text": [
      "+--------------------+-----+\n",
      "| NAME_EDUCATION_TYPE|count|\n",
      "+--------------------+-----+\n",
      "|     Academic degree|   32|\n",
      "|     Lower secondary|  374|\n",
      "|   Incomplete higher| 1410|\n",
      "|    Higher education| 9864|\n",
      "|Secondary / secon...|24777|\n",
      "+--------------------+-----+"
     ]
    }
   ],
   "source": [
    "#Continue with Categorical columns, the next one would be education\n",
    "#Getting the counts first\n",
    "df.groupBy('NAME_EDUCATION_TYPE').count().orderBy('Count').show()"
   ]
  },
  {
   "cell_type": "code",
   "execution_count": 22,
   "id": "6910a92e",
   "metadata": {},
   "outputs": [
    {
     "data": {
      "application/vnd.jupyter.widget-view+json": {
       "model_id": "bb25710dcf684efa9bd048080a173551",
       "version_major": 2,
       "version_minor": 0
      },
      "text/plain": [
       "VBox()"
      ]
     },
     "metadata": {},
     "output_type": "display_data"
    },
    {
     "data": {
      "application/vnd.jupyter.widget-view+json": {
       "model_id": "",
       "version_major": 2,
       "version_minor": 0
      },
      "text/plain": [
       "FloatProgress(value=0.0, bar_style='info', description='Progress:', layout=Layout(height='25px', width='50%'),…"
      ]
     },
     "metadata": {},
     "output_type": "display_data"
    },
    {
     "data": {
      "image/png": "[encoded data removed]",
      "text/plain": [
       "<IPython.core.display.Image object>"
      ]
     },
     "metadata": {},
     "output_type": "display_data"
    }
   ],
   "source": [
    "#Selected out the columns\n",
    "#Ready for visualization\n",
    "plt.close()\n",
    "g = df1['NAME_EDUCATION_TYPE'].value_counts()\n",
    "figure(figsize=(12, 12), dpi=80)\n",
    "plt.bar(g.index,g.values)\n",
    "plt.show()\n",
    "%matplot plt"
   ]
  },
  {
   "cell_type": "code",
   "execution_count": null,
   "id": "e2197d96",
   "metadata": {},
   "outputs": [],
   "source": [
    "#We think education can be a important factor for ML models\n",
    "#Most people fall in to the category of secondary. It's good to see many people have higher education"
   ]
  },
  {
   "cell_type": "code",
   "execution_count": null,
   "id": "b8652313",
   "metadata": {},
   "outputs": [],
   "source": []
  },
  {
   "cell_type": "code",
   "execution_count": 24,
   "id": "7cbbaa55",
   "metadata": {},
   "outputs": [
    {
     "data": {
      "application/vnd.jupyter.widget-view+json": {
       "model_id": "dfe6f4498c144e1487226275f27813cd",
       "version_major": 2,
       "version_minor": 0
      },
      "text/plain": [
       "VBox()"
      ]
     },
     "metadata": {},
     "output_type": "display_data"
    },
    {
     "data": {
      "application/vnd.jupyter.widget-view+json": {
       "model_id": "",
       "version_major": 2,
       "version_minor": 0
      },
      "text/plain": [
       "FloatProgress(value=0.0, bar_style='info', description='Progress:', layout=Layout(height='25px', width='50%'),…"
      ]
     },
     "metadata": {},
     "output_type": "display_data"
    },
    {
     "name": "stdout",
     "output_type": "stream",
     "text": [
      "+--------------------+-----+\n",
      "|  NAME_FAMILY_STATUS|count|\n",
      "+--------------------+-----+\n",
      "|               Widow| 1532|\n",
      "|           Separated| 2103|\n",
      "|      Civil marriage| 2945|\n",
      "|Single / not married| 4829|\n",
      "|             Married|25048|\n",
      "+--------------------+-----+"
     ]
    }
   ],
   "source": [
    "#Continue with Categorical columns, the next one would be marital status\n",
    "#Getting the counts first\n",
    "df.groupBy('NAME_FAMILY_STATUS').count().orderBy('Count').show()"
   ]
  },
  {
   "cell_type": "code",
   "execution_count": 24,
   "id": "ae2cd6c6",
   "metadata": {},
   "outputs": [
    {
     "data": {
      "application/vnd.jupyter.widget-view+json": {
       "model_id": "82aa9bc3b66e42a9b7a3ecd8adea67d5",
       "version_major": 2,
       "version_minor": 0
      },
      "text/plain": [
       "VBox()"
      ]
     },
     "metadata": {},
     "output_type": "display_data"
    },
    {
     "data": {
      "application/vnd.jupyter.widget-view+json": {
       "model_id": "",
       "version_major": 2,
       "version_minor": 0
      },
      "text/plain": [
       "FloatProgress(value=0.0, bar_style='info', description='Progress:', layout=Layout(height='25px', width='50%'),…"
      ]
     },
     "metadata": {},
     "output_type": "display_data"
    },
    {
     "data": {
      "image/png": "[encoded data removed]",
      "text/plain": [
       "<IPython.core.display.Image object>"
      ]
     },
     "metadata": {},
     "output_type": "display_data"
    }
   ],
   "source": [
    "#Selected out the columns\n",
    "#Ready for visualization\n",
    "plt.close()\n",
    "g = df1['NAME_FAMILY_STATUS'].value_counts()\n",
    "figure(figsize=(9, 9), dpi=80)\n",
    "plt.bar(g.index,g.values)\n",
    "plt.show()\n",
    "%matplot plt"
   ]
  },
  {
   "cell_type": "code",
   "execution_count": null,
   "id": "613f9635",
   "metadata": {},
   "outputs": [],
   "source": [
    "#We can see most clients have married. Other categories only made up a small portions\n",
    "#Not too many single people"
   ]
  },
  {
   "cell_type": "code",
   "execution_count": null,
   "id": "44181cf6",
   "metadata": {},
   "outputs": [],
   "source": []
  },
  {
   "cell_type": "code",
   "execution_count": 27,
   "id": "9026af83",
   "metadata": {},
   "outputs": [
    {
     "data": {
      "application/vnd.jupyter.widget-view+json": {
       "model_id": "8e3d8097e97b41319c9cff8ee96148b2",
       "version_major": 2,
       "version_minor": 0
      },
      "text/plain": [
       "VBox()"
      ]
     },
     "metadata": {},
     "output_type": "display_data"
    },
    {
     "data": {
      "application/vnd.jupyter.widget-view+json": {
       "model_id": "",
       "version_major": 2,
       "version_minor": 0
      },
      "text/plain": [
       "FloatProgress(value=0.0, bar_style='info', description='Progress:', layout=Layout(height='25px', width='50%'),…"
      ]
     },
     "metadata": {},
     "output_type": "display_data"
    },
    {
     "name": "stdout",
     "output_type": "stream",
     "text": [
      "+-------------------+-----+\n",
      "|  NAME_HOUSING_TYPE|count|\n",
      "+-------------------+-----+\n",
      "|    Co-op apartment|  168|\n",
      "|   Office apartment|  262|\n",
      "|   Rented apartment|  575|\n",
      "|Municipal apartment| 1128|\n",
      "|       With parents| 1776|\n",
      "|  House / apartment|32548|\n",
      "+-------------------+-----+"
     ]
    }
   ],
   "source": [
    "#Continue with Categorical columns, the next one would be way of living\n",
    "#Getting the counts first\n",
    "df.groupBy('NAME_HOUSING_TYPE').count().orderBy('Count').show()"
   ]
  },
  {
   "cell_type": "code",
   "execution_count": 26,
   "id": "f9c41804",
   "metadata": {},
   "outputs": [
    {
     "data": {
      "application/vnd.jupyter.widget-view+json": {
       "model_id": "b79391ec44b748209991f8cbcc78e82f",
       "version_major": 2,
       "version_minor": 0
      },
      "text/plain": [
       "VBox()"
      ]
     },
     "metadata": {},
     "output_type": "display_data"
    },
    {
     "data": {
      "application/vnd.jupyter.widget-view+json": {
       "model_id": "",
       "version_major": 2,
       "version_minor": 0
      },
      "text/plain": [
       "FloatProgress(value=0.0, bar_style='info', description='Progress:', layout=Layout(height='25px', width='50%'),…"
      ]
     },
     "metadata": {},
     "output_type": "display_data"
    },
    {
     "data": {
      "image/png": "[encoded data removed]",
      "text/plain": [
       "<IPython.core.display.Image object>"
      ]
     },
     "metadata": {},
     "output_type": "display_data"
    }
   ],
   "source": [
    "#Selected out the columns\n",
    "#Ready for visualization\n",
    "plt.close()\n",
    "g = df1['NAME_HOUSING_TYPE'].value_counts()\n",
    "figure(figsize=(13, 13), dpi=80)\n",
    "plt.bar(g.index,g.values)\n",
    "plt.show()\n",
    "%matplot plt"
   ]
  },
  {
   "cell_type": "code",
   "execution_count": null,
   "id": "24dde24c",
   "metadata": {},
   "outputs": [],
   "source": [
    "#Most people live in house or apartment. This column should be a important factor\n",
    "#Because it can imply whether a client has living issue"
   ]
  },
  {
   "cell_type": "code",
   "execution_count": null,
   "id": "71233ea4",
   "metadata": {},
   "outputs": [],
   "source": []
  },
  {
   "cell_type": "code",
   "execution_count": 34,
   "id": "f5a96c8a",
   "metadata": {},
   "outputs": [
    {
     "data": {
      "application/vnd.jupyter.widget-view+json": {
       "model_id": "08bd1e38824a40e2b21d1ecbe577c8fb",
       "version_major": 2,
       "version_minor": 0
      },
      "text/plain": [
       "VBox()"
      ]
     },
     "metadata": {},
     "output_type": "display_data"
    },
    {
     "data": {
      "application/vnd.jupyter.widget-view+json": {
       "model_id": "",
       "version_major": 2,
       "version_minor": 0
      },
      "text/plain": [
       "FloatProgress(value=0.0, bar_style='info', description='Progress:', layout=Layout(height='25px', width='50%'),…"
      ]
     },
     "metadata": {},
     "output_type": "display_data"
    },
    {
     "name": "stdout",
     "output_type": "stream",
     "text": [
      "+------+-----+\n",
      "|STATUS|count|\n",
      "+------+-----+\n",
      "|     1| 4291|\n",
      "|     0|32166|\n",
      "+------+-----+"
     ]
    }
   ],
   "source": [
    "#Last categorical columns, it would be y variable, approve or not\n",
    "#Getting the counts first\n",
    "df.groupBy('STATUS').count().orderBy('Count').show()"
   ]
  },
  {
   "cell_type": "code",
   "execution_count": 39,
   "id": "69997468",
   "metadata": {},
   "outputs": [
    {
     "data": {
      "application/vnd.jupyter.widget-view+json": {
       "model_id": "c1aea5a5d21b4ac6bc2873c0b9d9310f",
       "version_major": 2,
       "version_minor": 0
      },
      "text/plain": [
       "VBox()"
      ]
     },
     "metadata": {},
     "output_type": "display_data"
    },
    {
     "data": {
      "application/vnd.jupyter.widget-view+json": {
       "model_id": "",
       "version_major": 2,
       "version_minor": 0
      },
      "text/plain": [
       "FloatProgress(value=0.0, bar_style='info', description='Progress:', layout=Layout(height='25px', width='50%'),…"
      ]
     },
     "metadata": {},
     "output_type": "display_data"
    },
    {
     "data": {
      "image/png": "[encoded data removed]",
      "text/plain": [
       "<IPython.core.display.Image object>"
      ]
     },
     "metadata": {},
     "output_type": "display_data"
    }
   ],
   "source": [
    "#Selected out the columns\n",
    "#Ready for visualization\n",
    "plt.close()\n",
    "g = df1['STATUS'].value_counts()\n",
    "plt.bar(g.index,g.values)\n",
    "plt.show()\n",
    "%matplot plt"
   ]
  },
  {
   "cell_type": "code",
   "execution_count": null,
   "id": "b50daac4",
   "metadata": {},
   "outputs": [],
   "source": [
    "#0 means good clients, thus approved. 1 means bad clients\n",
    "#It's nice to see only a small amount of people have trouble with their status\n",
    "\n",
    "#We skipped four meaningless categorical columns for visualization(Flaged phone|mobile|work phone|email)\n",
    "#We think these four columns are not really necessary for model building"
   ]
  },
  {
   "cell_type": "code",
   "execution_count": null,
   "id": "0cd42a94",
   "metadata": {},
   "outputs": [],
   "source": []
  },
  {
   "cell_type": "code",
   "execution_count": 43,
   "id": "5db3f51b",
   "metadata": {},
   "outputs": [
    {
     "data": {
      "application/vnd.jupyter.widget-view+json": {
       "model_id": "1fe91984cb0944f89f4029bdedb5b874",
       "version_major": 2,
       "version_minor": 0
      },
      "text/plain": [
       "VBox()"
      ]
     },
     "metadata": {},
     "output_type": "display_data"
    },
    {
     "data": {
      "application/vnd.jupyter.widget-view+json": {
       "model_id": "",
       "version_major": 2,
       "version_minor": 0
      },
      "text/plain": [
       "FloatProgress(value=0.0, bar_style='info', description='Progress:', layout=Layout(height='25px', width='50%'),…"
      ]
     },
     "metadata": {},
     "output_type": "display_data"
    },
    {
     "data": {
      "image/png": "[encoded data removed]",
      "text/plain": [
       "<IPython.core.display.Image object>"
      ]
     },
     "metadata": {},
     "output_type": "display_data"
    }
   ],
   "source": [
    "#Now for scatter plot for family members and annual income\n",
    "plt.close()\n",
    "plt.scatter(df1['CNT_FAM_MEMBERS']\n",
    "         , df1['AMT_INCOME_TOTAL'], \n",
    "            label=\"Relationship between family members and annual income\")\n",
    "plt.xlabel(\"Family size\")\n",
    "plt.ylabel(\"Annual income\")\n",
    "plt.legend(loc='upper left')\n",
    "plt.show()\n",
    "%matplot plt"
   ]
  },
  {
   "cell_type": "code",
   "execution_count": null,
   "id": "ab2fb2f5",
   "metadata": {},
   "outputs": [],
   "source": [
    "#It seems like annual income and family size doesn't have clear relationship\n",
    "#We thought having more family members meaning the income must be really high"
   ]
  },
  {
   "cell_type": "code",
   "execution_count": null,
   "id": "0a346d6d",
   "metadata": {},
   "outputs": [],
   "source": []
  },
  {
   "cell_type": "code",
   "execution_count": 46,
   "id": "a7c91c61",
   "metadata": {},
   "outputs": [
    {
     "data": {
      "application/vnd.jupyter.widget-view+json": {
       "model_id": "6fba18bcb2f14911b4163081e5e4840f",
       "version_major": 2,
       "version_minor": 0
      },
      "text/plain": [
       "VBox()"
      ]
     },
     "metadata": {},
     "output_type": "display_data"
    },
    {
     "data": {
      "application/vnd.jupyter.widget-view+json": {
       "model_id": "",
       "version_major": 2,
       "version_minor": 0
      },
      "text/plain": [
       "FloatProgress(value=0.0, bar_style='info', description='Progress:', layout=Layout(height='25px', width='50%'),…"
      ]
     },
     "metadata": {},
     "output_type": "display_data"
    },
    {
     "data": {
      "image/png": "[encoded data removed]",
      "text/plain": [
       "<IPython.core.display.Image object>"
      ]
     },
     "metadata": {},
     "output_type": "display_data"
    }
   ],
   "source": [
    "#Scatter plot for number of children and annual income\n",
    "plt.close()\n",
    "plt.scatter(df1['CNT_CHILDREN']\n",
    "         , df1['AMT_INCOME_TOTAL'], \n",
    "            label=\"Relationship between number of children and annual income\")\n",
    "plt.xlabel(\"Number of children\")\n",
    "plt.ylabel(\"Annual income\")\n",
    "plt.legend(loc='upper left')\n",
    "plt.show()\n",
    "%matplot plt"
   ]
  },
  {
   "cell_type": "code",
   "execution_count": null,
   "id": "f836a3d1",
   "metadata": {},
   "outputs": [],
   "source": [
    "#This seems interesting, people who have no children will have a very high annual income\n",
    "#We can see as having more children, the annual income is decreasing. There must be some negative correlation"
   ]
  },
  {
   "cell_type": "code",
   "execution_count": null,
   "id": "757af27a",
   "metadata": {},
   "outputs": [],
   "source": []
  },
  {
   "cell_type": "code",
   "execution_count": 47,
   "id": "0faab05c",
   "metadata": {},
   "outputs": [
    {
     "data": {
      "application/vnd.jupyter.widget-view+json": {
       "model_id": "adbde017bd6240d49c7c97aa1120518c",
       "version_major": 2,
       "version_minor": 0
      },
      "text/plain": [
       "VBox()"
      ]
     },
     "metadata": {},
     "output_type": "display_data"
    },
    {
     "data": {
      "application/vnd.jupyter.widget-view+json": {
       "model_id": "",
       "version_major": 2,
       "version_minor": 0
      },
      "text/plain": [
       "FloatProgress(value=0.0, bar_style='info', description='Progress:', layout=Layout(height='25px', width='50%'),…"
      ]
     },
     "metadata": {},
     "output_type": "display_data"
    },
    {
     "data": {
      "image/png": "[encoded data removed]",
      "text/plain": [
       "<IPython.core.display.Image object>"
      ]
     },
     "metadata": {},
     "output_type": "display_data"
    }
   ],
   "source": [
    "#Lastly, Scatter plot for employed years and annual income\n",
    "plt.close()\n",
    "plt.scatter(df1['YEARS_EMPLOYED']\n",
    "         , df1['AMT_INCOME_TOTAL'], \n",
    "            label=\"Relationship between number of yrs of employed and annual income\")\n",
    "plt.xlabel(\"Years of employed\")\n",
    "plt.ylabel(\"Annual income\")\n",
    "plt.legend(loc='upper left')\n",
    "plt.show()\n",
    "%matplot plt"
   ]
  },
  {
   "cell_type": "code",
   "execution_count": null,
   "id": "c828892a",
   "metadata": {},
   "outputs": [],
   "source": [
    "#It seems like there is no clear pattern. We can see some people has high annual income but < 5 yrs of working\n",
    "#But a small pattern we can see is that if the year employed very high, or in other word, if a person stay\n",
    "#in company very long, the annual income would not very high according to the graph"
   ]
  },
  {
   "cell_type": "code",
   "execution_count": null,
   "id": "2a150247",
   "metadata": {},
   "outputs": [],
   "source": []
  },
  {
   "cell_type": "code",
   "execution_count": null,
   "id": "3a3c68ed",
   "metadata": {},
   "outputs": [],
   "source": [
    "'''\n",
    "5.\n",
    "    Dealing with outlier\n",
    "'''"
   ]
  },
  {
   "cell_type": "code",
   "execution_count": 60,
   "id": "9a2bc638",
   "metadata": {},
   "outputs": [
    {
     "data": {
      "application/vnd.jupyter.widget-view+json": {
       "model_id": "5f8f6c185f7545f58525d930c76a5659",
       "version_major": 2,
       "version_minor": 0
      },
      "text/plain": [
       "VBox()"
      ]
     },
     "metadata": {},
     "output_type": "display_data"
    },
    {
     "data": {
      "application/vnd.jupyter.widget-view+json": {
       "model_id": "",
       "version_major": 2,
       "version_minor": 0
      },
      "text/plain": [
       "FloatProgress(value=0.0, bar_style='info', description='Progress:', layout=Layout(height='25px', width='50%'),…"
      ]
     },
     "metadata": {},
     "output_type": "display_data"
    },
    {
     "name": "stdout",
     "output_type": "stream",
     "text": [
      "+------------+-----+\n",
      "|CNT_CHILDREN|count|\n",
      "+------------+-----+\n",
      "|           3|  419|\n",
      "|           2| 3256|\n",
      "|           1| 7492|\n",
      "|           0|25201|\n",
      "+------------+-----+\n",
      "\n",
      "None"
     ]
    }
   ],
   "source": [
    "#outlier columns we have decided to deal with are: number of children, income, and family size\n",
    "#First one will be number of children\n",
    "#Filter out children < 4\n",
    "#Use count to check sucess or not\n",
    "df_filtered=df.filter(df.CNT_CHILDREN<4)\n",
    "print(df_filtered.groupBy('CNT_CHILDREN').count().orderBy('Count').show())"
   ]
  },
  {
   "cell_type": "code",
   "execution_count": null,
   "id": "36399cc6",
   "metadata": {},
   "outputs": [],
   "source": [
    "#The reason choosing the threhold 4 is because we saw the outliers in the desciptive statistics\n",
    "#4 is a good number to filter out those outliers"
   ]
  },
  {
   "cell_type": "code",
   "execution_count": 61,
   "id": "832443b9",
   "metadata": {},
   "outputs": [
    {
     "data": {
      "application/vnd.jupyter.widget-view+json": {
       "model_id": "6b35d000694f48a0bca4b1543e8ad245",
       "version_major": 2,
       "version_minor": 0
      },
      "text/plain": [
       "VBox()"
      ]
     },
     "metadata": {},
     "output_type": "display_data"
    },
    {
     "data": {
      "application/vnd.jupyter.widget-view+json": {
       "model_id": "",
       "version_major": 2,
       "version_minor": 0
      },
      "text/plain": [
       "FloatProgress(value=0.0, bar_style='info', description='Progress:', layout=Layout(height='25px', width='50%'),…"
      ]
     },
     "metadata": {},
     "output_type": "display_data"
    }
   ],
   "source": [
    "#Next one will be anual income\n",
    "#If not in 3 SD range, it would be outliers\n",
    "df_filtered=df_filtered.filter(df.AMT_INCOME_TOTAL<186720.905+101865.255*3)\n",
    "df_filtered=df_filtered.filter(df.AMT_INCOME_TOTAL>186720.905-101865.255*3)"
   ]
  },
  {
   "cell_type": "code",
   "execution_count": null,
   "id": "9aeaddad",
   "metadata": {},
   "outputs": [],
   "source": [
    "#This time, we use the common method. We cut off the lower and upper bond\n",
    "#We make sure data are within the 3 standard deviation range"
   ]
  },
  {
   "cell_type": "code",
   "execution_count": 62,
   "id": "a84e1cac",
   "metadata": {},
   "outputs": [
    {
     "data": {
      "application/vnd.jupyter.widget-view+json": {
       "model_id": "650504f69bbc435683685f9707142450",
       "version_major": 2,
       "version_minor": 0
      },
      "text/plain": [
       "VBox()"
      ]
     },
     "metadata": {},
     "output_type": "display_data"
    },
    {
     "data": {
      "application/vnd.jupyter.widget-view+json": {
       "model_id": "",
       "version_major": 2,
       "version_minor": 0
      },
      "text/plain": [
       "FloatProgress(value=0.0, bar_style='info', description='Progress:', layout=Layout(height='25px', width='50%'),…"
      ]
     },
     "metadata": {},
     "output_type": "display_data"
    }
   ],
   "source": [
    "#Next one will be family size\n",
    "#Again, same method, if outside of 3 SD range, it would be outliers\n",
    "df_filtered=df_filtered.filter(df.CNT_FAM_MEMBERS<2.1984+0.9116*3)\n",
    "df_filtered=df_filtered.filter(df.CNT_FAM_MEMBERS>2.1984-0.9116*3)"
   ]
  },
  {
   "cell_type": "code",
   "execution_count": null,
   "id": "65969082",
   "metadata": {},
   "outputs": [],
   "source": [
    "#Still the same method as above\n",
    "#We make sure data are within the 3 standard deviation range"
   ]
  },
  {
   "cell_type": "code",
   "execution_count": 63,
   "id": "88e31142",
   "metadata": {},
   "outputs": [
    {
     "data": {
      "application/vnd.jupyter.widget-view+json": {
       "model_id": "1c61cb1cd84740d487078c5ddd0aa529",
       "version_major": 2,
       "version_minor": 0
      },
      "text/plain": [
       "VBox()"
      ]
     },
     "metadata": {},
     "output_type": "display_data"
    },
    {
     "data": {
      "application/vnd.jupyter.widget-view+json": {
       "model_id": "",
       "version_major": 2,
       "version_minor": 0
      },
      "text/plain": [
       "FloatProgress(value=0.0, bar_style='info', description='Progress:', layout=Layout(height='25px', width='50%'),…"
      ]
     },
     "metadata": {},
     "output_type": "display_data"
    },
    {
     "name": "stdout",
     "output_type": "stream",
     "text": [
      "(36457, 35470)"
     ]
    }
   ],
   "source": [
    "#We'll count the number of orginal vs filtered one\n",
    "df.count(), df_filtered.count()"
   ]
  },
  {
   "cell_type": "code",
   "execution_count": 64,
   "id": "e2750006",
   "metadata": {},
   "outputs": [
    {
     "data": {
      "application/vnd.jupyter.widget-view+json": {
       "model_id": "1422d44190e847aea0275ce8992d14b0",
       "version_major": 2,
       "version_minor": 0
      },
      "text/plain": [
       "VBox()"
      ]
     },
     "metadata": {},
     "output_type": "display_data"
    },
    {
     "data": {
      "application/vnd.jupyter.widget-view+json": {
       "model_id": "",
       "version_major": 2,
       "version_minor": 0
      },
      "text/plain": [
       "FloatProgress(value=0.0, bar_style='info', description='Progress:', layout=Layout(height='25px', width='50%'),…"
      ]
     },
     "metadata": {},
     "output_type": "display_data"
    },
    {
     "name": "stdout",
     "output_type": "stream",
     "text": [
      "0.027072990097923633"
     ]
    }
   ],
   "source": [
    "#Do a math to see if we removed over 3% of the data\n",
    "1-35470/36457"
   ]
  },
  {
   "cell_type": "code",
   "execution_count": null,
   "id": "4ee48239",
   "metadata": {},
   "outputs": [],
   "source": [
    "#0.027 is almost 3% of the data, but in this case, we are fine"
   ]
  },
  {
   "cell_type": "code",
   "execution_count": null,
   "id": "3cd23526",
   "metadata": {},
   "outputs": [],
   "source": []
  },
  {
   "cell_type": "code",
   "execution_count": null,
   "id": "e1eaecbf",
   "metadata": {},
   "outputs": [],
   "source": []
  },
  {
   "cell_type": "code",
   "execution_count": null,
   "id": "9dab23f4",
   "metadata": {},
   "outputs": [],
   "source": [
    "'''\n",
    "6.\n",
    "    Rerun descriptive statistics and histogram\n",
    "'''"
   ]
  },
  {
   "cell_type": "code",
   "execution_count": 70,
   "id": "53c240aa",
   "metadata": {},
   "outputs": [
    {
     "data": {
      "application/vnd.jupyter.widget-view+json": {
       "model_id": "a3be50fa60ba441ba7c687711a997ad1",
       "version_major": 2,
       "version_minor": 0
      },
      "text/plain": [
       "VBox()"
      ]
     },
     "metadata": {},
     "output_type": "display_data"
    },
    {
     "data": {
      "application/vnd.jupyter.widget-view+json": {
       "model_id": "",
       "version_major": 2,
       "version_minor": 0
      },
      "text/plain": [
       "FloatProgress(value=0.0, bar_style='info', description='Progress:', layout=Layout(height='25px', width='50%'),…"
      ]
     },
     "metadata": {},
     "output_type": "display_data"
    },
    {
     "name": "stdout",
     "output_type": "stream",
     "text": [
      "+-------+-------------------+\n",
      "|summary|       CNT_CHILDREN|\n",
      "+-------+-------------------+\n",
      "|  count|              35470|\n",
      "|   mean|0.38993515647025656|\n",
      "| stddev| 0.6506536411393978|\n",
      "|    min|                  0|\n",
      "|    max|                  3|\n",
      "+-------+-------------------+\n",
      "\n",
      "None\n",
      "+-------+-----------------+\n",
      "|summary| AMT_INCOME_TOTAL|\n",
      "+-------+-----------------+\n",
      "|  count|            35470|\n",
      "|   mean|179849.4968846913|\n",
      "| stddev|81522.22378996917|\n",
      "|    min|          27000.0|\n",
      "|    max|         472500.0|\n",
      "+-------+-----------------+\n",
      "\n",
      "None\n",
      "+-------+------------------+\n",
      "|summary|   CNT_FAM_MEMBERS|\n",
      "+-------+------------------+\n",
      "|  count|             35470|\n",
      "|   mean| 2.155709049901325|\n",
      "| stddev|0.8327202162590296|\n",
      "|    min|                 1|\n",
      "|    max|                 4|\n",
      "+-------+------------------+\n",
      "\n",
      "None"
     ]
    }
   ],
   "source": [
    "#We'll rerun stats for the above three columns which we have filtered out\n",
    "print(df_filtered.select('CNT_CHILDREN').describe().show())\n",
    "print(df_filtered.select('AMT_INCOME_TOTAL').describe().show())\n",
    "print(df_filtered.select('CNT_FAM_MEMBERS').describe().show())"
   ]
  },
  {
   "cell_type": "code",
   "execution_count": null,
   "id": "624c71f1",
   "metadata": {},
   "outputs": [],
   "source": [
    "#This looks much better compare to the orginal datasets\n",
    "#By checking min and max, we can clearly see outliers are gone"
   ]
  },
  {
   "cell_type": "code",
   "execution_count": null,
   "id": "aa9c0064",
   "metadata": {},
   "outputs": [],
   "source": []
  },
  {
   "cell_type": "code",
   "execution_count": null,
   "id": "6351657f",
   "metadata": {},
   "outputs": [],
   "source": []
  },
  {
   "cell_type": "code",
   "execution_count": 72,
   "id": "bf8340e8",
   "metadata": {},
   "outputs": [
    {
     "data": {
      "application/vnd.jupyter.widget-view+json": {
       "model_id": "6ac26cb858684ea3869469fc0a8c0fa4",
       "version_major": 2,
       "version_minor": 0
      },
      "text/plain": [
       "VBox()"
      ]
     },
     "metadata": {},
     "output_type": "display_data"
    },
    {
     "data": {
      "application/vnd.jupyter.widget-view+json": {
       "model_id": "",
       "version_major": 2,
       "version_minor": 0
      },
      "text/plain": [
       "FloatProgress(value=0.0, bar_style='info', description='Progress:', layout=Layout(height='25px', width='50%'),…"
      ]
     },
     "metadata": {},
     "output_type": "display_data"
    },
    {
     "data": {
      "image/png": "[encoded data removed]",
      "text/plain": [
       "<IPython.core.display.Image object>"
      ]
     },
     "metadata": {},
     "output_type": "display_data"
    }
   ],
   "source": [
    "#Next we'll rerun histograms from three variables\n",
    "df_filtered.select('CNT_CHILDREN').toPandas().hist()\n",
    "%matplot plt"
   ]
  },
  {
   "cell_type": "code",
   "execution_count": 73,
   "id": "e265d665",
   "metadata": {},
   "outputs": [
    {
     "data": {
      "application/vnd.jupyter.widget-view+json": {
       "model_id": "82f5f1f8ef11493fa8dfa354a5f949ce",
       "version_major": 2,
       "version_minor": 0
      },
      "text/plain": [
       "VBox()"
      ]
     },
     "metadata": {},
     "output_type": "display_data"
    },
    {
     "data": {
      "application/vnd.jupyter.widget-view+json": {
       "model_id": "",
       "version_major": 2,
       "version_minor": 0
      },
      "text/plain": [
       "FloatProgress(value=0.0, bar_style='info', description='Progress:', layout=Layout(height='25px', width='50%'),…"
      ]
     },
     "metadata": {},
     "output_type": "display_data"
    },
    {
     "data": {
      "image/png": "[encoded data removed]",
      "text/plain": [
       "<IPython.core.display.Image object>"
      ]
     },
     "metadata": {},
     "output_type": "display_data"
    }
   ],
   "source": [
    "df_filtered.select('AMT_INCOME_TOTAL').toPandas().hist()\n",
    "%matplot plt"
   ]
  },
  {
   "cell_type": "code",
   "execution_count": 74,
   "id": "de7d63b7",
   "metadata": {},
   "outputs": [
    {
     "data": {
      "application/vnd.jupyter.widget-view+json": {
       "model_id": "d29efcf5a4164f1d9a82fb9a41c81ffa",
       "version_major": 2,
       "version_minor": 0
      },
      "text/plain": [
       "VBox()"
      ]
     },
     "metadata": {},
     "output_type": "display_data"
    },
    {
     "data": {
      "application/vnd.jupyter.widget-view+json": {
       "model_id": "",
       "version_major": 2,
       "version_minor": 0
      },
      "text/plain": [
       "FloatProgress(value=0.0, bar_style='info', description='Progress:', layout=Layout(height='25px', width='50%'),…"
      ]
     },
     "metadata": {},
     "output_type": "display_data"
    },
    {
     "data": {
      "image/png": "[encoded data removed]",
      "text/plain": [
       "<IPython.core.display.Image object>"
      ]
     },
     "metadata": {},
     "output_type": "display_data"
    }
   ],
   "source": [
    "df_filtered.select('CNT_FAM_MEMBERS').toPandas().hist()\n",
    "%matplot plt"
   ]
  },
  {
   "cell_type": "code",
   "execution_count": null,
   "id": "723fb553",
   "metadata": {},
   "outputs": [],
   "source": [
    "#Looks much better than previous three, orginal histograms have extreme skewed problem\n",
    "#Now they are better, we think we shouldn't remove any more data"
   ]
  },
  {
   "cell_type": "code",
   "execution_count": null,
   "id": "168e9e51",
   "metadata": {},
   "outputs": [],
   "source": []
  },
  {
   "cell_type": "code",
   "execution_count": 77,
   "id": "58a3d392",
   "metadata": {},
   "outputs": [
    {
     "data": {
      "application/vnd.jupyter.widget-view+json": {
       "model_id": "589c7a490ebb440ea6bf2f12d7076582",
       "version_major": 2,
       "version_minor": 0
      },
      "text/plain": [
       "VBox()"
      ]
     },
     "metadata": {},
     "output_type": "display_data"
    },
    {
     "data": {
      "application/vnd.jupyter.widget-view+json": {
       "model_id": "",
       "version_major": 2,
       "version_minor": 0
      },
      "text/plain": [
       "FloatProgress(value=0.0, bar_style='info', description='Progress:', layout=Layout(height='25px', width='50%'),…"
      ]
     },
     "metadata": {},
     "output_type": "display_data"
    }
   ],
   "source": [
    "#We'll write to csv, so we can get a new dataset\n",
    "df_filtered.write.format('csv').option('header',True).mode('overwrite').option('sep',',').save('s3://mybucketname32/Project/Credit_Card_preprocessed.csv')"
   ]
  },
  {
   "cell_type": "markdown",
   "id": "495947e0",
   "metadata": {},
   "source": [
    " "
   ]
  },
  {
   "cell_type": "markdown",
   "id": "c33e49f9",
   "metadata": {},
   "source": [
    "Milestone 3"
   ]
  },
  {
   "cell_type": "code",
   "execution_count": 1,
   "id": "e5468aab",
   "metadata": {},
   "outputs": [
    {
     "data": {
      "application/vnd.jupyter.widget-view+json": {
       "model_id": "f0fc054484884cc283c6abfe35c7430f",
       "version_major": 2,
       "version_minor": 0
      },
      "text/plain": [
       "VBox()"
      ]
     },
     "metadata": {},
     "output_type": "display_data"
    },
    {
     "name": "stdout",
     "output_type": "stream",
     "text": [
      "Starting Spark application\n"
     ]
    },
    {
     "data": {
      "text/html": [
       "<table>\n",
       "<tr><th>ID</th><th>YARN Application ID</th><th>Kind</th><th>State</th><th>Spark UI</th><th>Driver log</th><th>Current session?</th></tr><tr><td>0</td><td>application_1628277885833_0001</td><td>pyspark</td><td>idle</td><td><a target=\"_blank\" href=\"http://ip-172-31-89-131.ec2.internal:20888/proxy/application_1628277885833_0001/\">Link</a></td><td><a target=\"_blank\" href=\"http://ip-172-31-80-174.ec2.internal:8042/node/containerlogs/container_1628277885833_0001_01_000001/livy\">Link</a></td><td>✔</td></tr></table>"
      ],
      "text/plain": [
       "<IPython.core.display.HTML object>"
      ]
     },
     "metadata": {},
     "output_type": "display_data"
    },
    {
     "data": {
      "application/vnd.jupyter.widget-view+json": {
       "model_id": "",
       "version_major": 2,
       "version_minor": 0
      },
      "text/plain": [
       "FloatProgress(value=0.0, bar_style='info', description='Progress:', layout=Layout(height='25px', width='50%'),…"
      ]
     },
     "metadata": {},
     "output_type": "display_data"
    },
    {
     "name": "stdout",
     "output_type": "stream",
     "text": [
      "SparkSession available as 'spark'.\n"
     ]
    },
    {
     "data": {
      "application/vnd.jupyter.widget-view+json": {
       "model_id": "",
       "version_major": 2,
       "version_minor": 0
      },
      "text/plain": [
       "FloatProgress(value=0.0, bar_style='info', description='Progress:', layout=Layout(height='25px', width='50%'),…"
      ]
     },
     "metadata": {},
     "output_type": "display_data"
    },
    {
     "name": "stdout",
     "output_type": "stream",
     "text": [
      "-RECORD 0-------------------------------\n",
      " ID                  | 5008804          \n",
      " CODE_GENDER         | M                \n",
      " FLAG_OWN_CAR        | Y                \n",
      " FLAG_OWN_REALTY     | Y                \n",
      " CNT_CHILDREN        | 0                \n",
      " AMT_INCOME_TOTAL    | 427500.0         \n",
      " NAME_INCOME_TYPE    | Working          \n",
      " NAME_EDUCATION_TYPE | Higher education \n",
      " NAME_FAMILY_STATUS  | Civil marriage   \n",
      " NAME_HOUSING_TYPE   | Rented apartment \n",
      " AGE_YEARS           | 33               \n",
      " YEARS_EMPLOYED      | 12               \n",
      " FLAG_MOBIL          | 1                \n",
      " FLAG_WORK_PHONE     | 1                \n",
      " FLAG_PHONE          | 0                \n",
      " FLAG_EMAIL          | 0                \n",
      " CNT_FAM_MEMBERS     | 2                \n",
      " STATUS              | 1                \n",
      "only showing top 1 row"
     ]
    }
   ],
   "source": [
    "'''First, import modules and read the csv which we get from milestone 2'''\n",
    "\n",
    "import pyspark.sql.functions as F\n",
    "import pyspark.ml.feature as feat\n",
    "import numpy as np\n",
    "df = spark.read.csv('s3://mybucketname32/Project/Credit_Card_preprocessed.csv/Credit_Card_preprocessed.csv',\n",
    "                    header=True,\n",
    "                    inferSchema=True)\n",
    "df.show(1, vertical=True)"
   ]
  },
  {
   "cell_type": "code",
   "execution_count": null,
   "id": "267a6f25",
   "metadata": {},
   "outputs": [],
   "source": [
    "'''It's better to see it vertically. The above output is just to make sure the file is correct'''"
   ]
  },
  {
   "cell_type": "markdown",
   "id": "bf627d69",
   "metadata": {},
   "source": [
    " "
   ]
  },
  {
   "cell_type": "markdown",
   "id": "88d515df",
   "metadata": {},
   "source": [
    "1. Correlations and their interpretations"
   ]
  },
  {
   "cell_type": "code",
   "execution_count": null,
   "id": "f8334e7c",
   "metadata": {},
   "outputs": [],
   "source": [
    "'''Let's save this part just for now. \n",
    "After we finish the data transformation next section, we can come back and do the correlations.'''"
   ]
  },
  {
   "cell_type": "code",
   "execution_count": null,
   "id": "1e95aa6d",
   "metadata": {},
   "outputs": [],
   "source": []
  },
  {
   "cell_type": "code",
   "execution_count": 4,
   "id": "77593826",
   "metadata": {},
   "outputs": [
    {
     "data": {
      "application/vnd.jupyter.widget-view+json": {
       "model_id": "601cf602cc9b47009227c1119b92089c",
       "version_major": 2,
       "version_minor": 0
      },
      "text/plain": [
       "VBox()"
      ]
     },
     "metadata": {},
     "output_type": "display_data"
    },
    {
     "data": {
      "application/vnd.jupyter.widget-view+json": {
       "model_id": "",
       "version_major": 2,
       "version_minor": 0
      },
      "text/plain": [
       "FloatProgress(value=0.0, bar_style='info', description='Progress:', layout=Layout(height='25px', width='50%'),…"
      ]
     },
     "metadata": {},
     "output_type": "display_data"
    },
    {
     "name": "stdout",
     "output_type": "stream",
     "text": [
      "array([ 1.        ,  0.03504317, -0.35487758,  0.04153623,  0.8644386 ,\n",
      "        0.03504317,  1.        , -0.09102575,  0.09653544,  0.02518567,\n",
      "       -0.35487758, -0.09102575,  1.        , -0.0214407 , -0.30580938,\n",
      "        0.04153623,  0.09653544, -0.0214407 ,  1.        ,  0.05287235,\n",
      "        0.8644386 ,  0.02518567, -0.30580938,  0.05287235,  1.        ])"
     ]
    }
   ],
   "source": [
    "'''Now, we finished the section 2, we can do correlations. Notice that although every columns have numeric value,\n",
    "many of those represents categories. The are only five columns we can use for correlation, and they are:\n",
    "#ofChildren, Annual_income, Age, Years_Employed, Family_size'''\n",
    "\n",
    "from pyspark.ml.linalg import DenseMatrix, Vectors\n",
    "from pyspark.ml.stat import Correlation\n",
    "from pyspark.ml.feature import VectorAssembler\n",
    "\n",
    "df1 = df.select('CNT_CHILDREN','AMT_INCOME_TOTAL','AGE_YEARS','YEARS_EMPLOYED','CNT_FAM_MEMBERS')\n",
    "\n",
    "vector_col = \"corr_features\"\n",
    "assembler = VectorAssembler(inputCols=df1.columns, outputCol=vector_col)\n",
    "df_vector = assembler.transform(df1).select(vector_col)\n",
    "\n",
    "# get correlation matrix\n",
    "matrix = Correlation.corr(df_vector, vector_col)\n",
    "matrix.collect()[0][\"pearson({})\".format(vector_col)].values"
   ]
  },
  {
   "cell_type": "markdown",
   "id": "8269b7f0",
   "metadata": {},
   "source": [
    "                        CNT_CHILDREN  AMT_INCOME_TOTAL  AGE_YEARS  YEARS_EMPLOYED  CNT_FAM_MEMBERS \n",
    "CNT_CHILDREN\n",
    "\n",
    "AMT_INCOME_TOTAL\n",
    "\n",
    "AGE_YEARS\n",
    "\n",
    "YEARS_EMPLOYED\n",
    "\n",
    "CNT_FAM_MEMBERS "
   ]
  },
  {
   "cell_type": "code",
   "execution_count": null,
   "id": "48c5ffb2",
   "metadata": {},
   "outputs": [],
   "source": [
    "'''Looking at the output, we can see that number of children and family size are 86% correlated, which makes\n",
    "sense because more children means more family members.\n",
    "It's also interesting to see that age and family members have -30% correlation. Age and numebr_of_Children also\n",
    "has -35% correlation. These mean the older a person, one will have less family members. \n",
    "These -30% and -35% are pretty hard to interpret because we don't know is it because family members are dead,\n",
    "or they just means previous generations' people don't want to have too many children.\n",
    "For other variables, there is not much correlation because they all seems pretty low.\n",
    "'''"
   ]
  },
  {
   "cell_type": "markdown",
   "id": "ca4e7324",
   "metadata": {},
   "source": [
    " "
   ]
  },
  {
   "cell_type": "markdown",
   "id": "b6505cc7",
   "metadata": {},
   "source": [
    "2. Data transformation"
   ]
  },
  {
   "cell_type": "code",
   "execution_count": 2,
   "id": "58cc75f0",
   "metadata": {},
   "outputs": [
    {
     "data": {
      "application/vnd.jupyter.widget-view+json": {
       "model_id": "613e4c72e5b74fac996c811b6ea7a951",
       "version_major": 2,
       "version_minor": 0
      },
      "text/plain": [
       "VBox()"
      ]
     },
     "metadata": {},
     "output_type": "display_data"
    },
    {
     "data": {
      "application/vnd.jupyter.widget-view+json": {
       "model_id": "",
       "version_major": 2,
       "version_minor": 0
      },
      "text/plain": [
       "FloatProgress(value=0.0, bar_style='info', description='Progress:', layout=Layout(height='25px', width='50%'),…"
      ]
     },
     "metadata": {},
     "output_type": "display_data"
    },
    {
     "name": "stdout",
     "output_type": "stream",
     "text": [
      "-RECORD 0-----------------------------------------\n",
      " Higher education              | 1                \n",
      " Academic degree               | 0                \n",
      " Incomplete higher             | 0                \n",
      " Secondary / secondary special | 0                \n",
      " Lower secondary               | 0                \n",
      " Commercial associate          | 0                \n",
      " Working                       | 1                \n",
      " Pensioner                     | 0                \n",
      " Student                       | 0                \n",
      " State servant                 | 0                \n",
      " M                             | 1                \n",
      " F                             | 0                \n",
      " ID                            | 5008804          \n",
      " CODE_GENDER                   | M                \n",
      " FLAG_OWN_CAR                  | Y                \n",
      " FLAG_OWN_REALTY               | Y                \n",
      " CNT_CHILDREN                  | 0                \n",
      " AMT_INCOME_TOTAL              | 427500.0         \n",
      " NAME_INCOME_TYPE              | Working          \n",
      " NAME_EDUCATION_TYPE           | Higher education \n",
      " NAME_FAMILY_STATUS            | Civil marriage   \n",
      " NAME_HOUSING_TYPE             | Rented apartment \n",
      " AGE_YEARS                     | 33               \n",
      " YEARS_EMPLOYED                | 12               \n",
      " FLAG_MOBIL                    | 1                \n",
      " FLAG_WORK_PHONE               | 1                \n",
      " FLAG_PHONE                    | 0                \n",
      " FLAG_EMAIL                    | 0                \n",
      " CNT_FAM_MEMBERS               | 2                \n",
      " STATUS                        | 1                \n",
      "only showing top 1 row"
     ]
    }
   ],
   "source": [
    "'''The code below is to convert some categorical columns to dummies. In this case, we chose Gender, Income_type,\n",
    "and Education_type. Of course, there are other categorical columns such as Family_status, housing_type, \n",
    "Having_phone, and Having_email things like those, but we've decided not to use them'''\n",
    "\n",
    "import pyspark.sql.functions as F \n",
    "categ = df.select('CODE_GENDER').distinct().rdd.flatMap(lambda x:x).collect()\n",
    "exprs = [F.when(F.col('CODE_GENDER') == cat,1).otherwise(0)\\\n",
    "            .alias(str(cat)) for cat in categ]\n",
    "df = df.select(exprs+df.columns)\n",
    "categ = df.select('NAME_INCOME_TYPE').distinct().rdd.flatMap(lambda x:x).collect()\n",
    "exprs = [F.when(F.col('NAME_INCOME_TYPE') == cat,1).otherwise(0)\\\n",
    "            .alias(str(cat)) for cat in categ]\n",
    "df = df.select(exprs+df.columns)\n",
    "categ = df.select('NAME_EDUCATION_TYPE').distinct().rdd.flatMap(lambda x:x).collect()\n",
    "exprs = [F.when(F.col('NAME_EDUCATION_TYPE') == cat,1).otherwise(0)\\\n",
    "            .alias(str(cat)) for cat in categ]\n",
    "df = df.select(exprs+df.columns)\n",
    "df.show(1,vertical=True)"
   ]
  },
  {
   "cell_type": "code",
   "execution_count": null,
   "id": "fe3c491e",
   "metadata": {},
   "outputs": [],
   "source": [
    "'''From the output, we can see the dummies' columns successfully created, but still need to do n-1 approach'''"
   ]
  },
  {
   "cell_type": "code",
   "execution_count": 3,
   "id": "006dacc5",
   "metadata": {},
   "outputs": [
    {
     "data": {
      "application/vnd.jupyter.widget-view+json": {
       "model_id": "fc6495cc5621483c9ec43dd9accadf06",
       "version_major": 2,
       "version_minor": 0
      },
      "text/plain": [
       "VBox()"
      ]
     },
     "metadata": {},
     "output_type": "display_data"
    },
    {
     "data": {
      "application/vnd.jupyter.widget-view+json": {
       "model_id": "",
       "version_major": 2,
       "version_minor": 0
      },
      "text/plain": [
       "FloatProgress(value=0.0, bar_style='info', description='Progress:', layout=Layout(height='25px', width='50%'),…"
      ]
     },
     "metadata": {},
     "output_type": "display_data"
    },
    {
     "name": "stdout",
     "output_type": "stream",
     "text": [
      "-RECORD 0---------------------------------\n",
      " Higher education              | 1        \n",
      " Incomplete higher             | 0        \n",
      " Secondary / secondary special | 0        \n",
      " Lower secondary               | 0        \n",
      " Working                       | 1        \n",
      " Pensioner                     | 0        \n",
      " Student                       | 0        \n",
      " State servant                 | 0        \n",
      " M                             | 1        \n",
      " CNT_CHILDREN                  | 0        \n",
      " AMT_INCOME_TOTAL              | 427500.0 \n",
      " AGE_YEARS                     | 33       \n",
      " YEARS_EMPLOYED                | 12       \n",
      " CNT_FAM_MEMBERS               | 2        \n",
      " STATUS                        | 1        \n",
      "only showing top 1 row"
     ]
    }
   ],
   "source": [
    "'''We can mannually remove the extra columns that generated by previous codes.\n",
    "For example for Gender, we don't need that extra 'F' column.\n",
    "In addition to that, we also want to delete other columns which we think is not useful.\n",
    "For example for Having_Mobile column, everyone is 1 which makes this column not useful.'''\n",
    "\n",
    "df = df.drop('CODE_GENDER','NAME_INCOME_TYPE','NAME_EDUCATION_TYPE','F','Commercial associate','Academic degree')\n",
    "df = df.drop('NAME_FAMILY_STATUS','NAME_HOUSING_TYPE','FLAG_MOBIL','FLAG_WORK_PHONE',\n",
    "             'FLAG_PHONE','FLAG_EMAIL','FLAG_OWN_CAR','FLAG_OWN_REALTY')\n",
    "df = df.drop('ID')\n",
    "df.show(1,vertical=True)"
   ]
  },
  {
   "cell_type": "code",
   "execution_count": null,
   "id": "961d3118",
   "metadata": {},
   "outputs": [],
   "source": [
    "'''Looks pretty good now, we have necessary columns, and we have dummies.\n",
    "Now we'll go back to section 1 to do correlation.'''"
   ]
  },
  {
   "cell_type": "markdown",
   "id": "99bc0442",
   "metadata": {},
   "source": [
    " "
   ]
  },
  {
   "cell_type": "markdown",
   "id": "69ba28a7",
   "metadata": {},
   "source": [
    "3.Modeling"
   ]
  },
  {
   "cell_type": "code",
   "execution_count": null,
   "id": "c066ba40",
   "metadata": {},
   "outputs": [],
   "source": [
    "'''Before modeling, let's save the above file first, so even if we mess up, we don't have to run\n",
    "all the previous processes again.'''\n",
    "df.write.format('csv').option('header',True).mode('overwrite').option('sep',',').save('s3://mybucketname32/Project/Credit_Card_readyformodel.csv')"
   ]
  },
  {
   "cell_type": "code",
   "execution_count": 1,
   "id": "860f4d11",
   "metadata": {},
   "outputs": [
    {
     "data": {
      "application/vnd.jupyter.widget-view+json": {
       "model_id": "19b3646efb13490c865708af012e085b",
       "version_major": 2,
       "version_minor": 0
      },
      "text/plain": [
       "VBox()"
      ]
     },
     "metadata": {},
     "output_type": "display_data"
    },
    {
     "name": "stdout",
     "output_type": "stream",
     "text": [
      "Starting Spark application\n"
     ]
    },
    {
     "data": {
      "text/html": [
       "<table>\n",
       "<tr><th>ID</th><th>YARN Application ID</th><th>Kind</th><th>State</th><th>Spark UI</th><th>Driver log</th><th>Current session?</th></tr><tr><td>0</td><td>application_1628628798534_0001</td><td>pyspark</td><td>idle</td><td><a target=\"_blank\" href=\"http://ip-172-31-86-127.ec2.internal:20888/proxy/application_1628628798534_0001/\">Link</a></td><td><a target=\"_blank\" href=\"http://ip-172-31-84-166.ec2.internal:8042/node/containerlogs/container_1628628798534_0001_01_000001/livy\">Link</a></td><td>✔</td></tr></table>"
      ],
      "text/plain": [
       "<IPython.core.display.HTML object>"
      ]
     },
     "metadata": {},
     "output_type": "display_data"
    },
    {
     "data": {
      "application/vnd.jupyter.widget-view+json": {
       "model_id": "",
       "version_major": 2,
       "version_minor": 0
      },
      "text/plain": [
       "FloatProgress(value=0.0, bar_style='info', description='Progress:', layout=Layout(height='25px', width='50%'),…"
      ]
     },
     "metadata": {},
     "output_type": "display_data"
    },
    {
     "name": "stdout",
     "output_type": "stream",
     "text": [
      "SparkSession available as 'spark'.\n"
     ]
    },
    {
     "data": {
      "application/vnd.jupyter.widget-view+json": {
       "model_id": "",
       "version_major": 2,
       "version_minor": 0
      },
      "text/plain": [
       "FloatProgress(value=0.0, bar_style='info', description='Progress:', layout=Layout(height='25px', width='50%'),…"
      ]
     },
     "metadata": {},
     "output_type": "display_data"
    },
    {
     "name": "stdout",
     "output_type": "stream",
     "text": [
      "-RECORD 0---------------------------------\n",
      " Higher education              | 1        \n",
      " Incomplete higher             | 0        \n",
      " Secondary / secondary special | 0        \n",
      " Lower secondary               | 0        \n",
      " Working                       | 1        \n",
      " Pensioner                     | 0        \n",
      " Student                       | 0        \n",
      " State servant                 | 0        \n",
      " M                             | 1        \n",
      " CNT_CHILDREN                  | 0        \n",
      " AMT_INCOME_TOTAL              | 427500.0 \n",
      " AGE_YEARS                     | 33       \n",
      " YEARS_EMPLOYED                | 12       \n",
      " CNT_FAM_MEMBERS               | 2        \n",
      " STATUS                        | 1        \n",
      "only showing top 1 row"
     ]
    }
   ],
   "source": [
    "'''read the file first'''\n",
    "df = spark.read.csv('s3://mybucketname32/Project/Credit_Card_readyformodel.csv/Credit_Card_readyformodel.csv',\n",
    "                    header=True,\n",
    "                    inferSchema=True)\n",
    "df.show(1, vertical=True)"
   ]
  },
  {
   "cell_type": "code",
   "execution_count": null,
   "id": "983586aa",
   "metadata": {},
   "outputs": [],
   "source": [
    "'''Ok, it's the correct file'''"
   ]
  },
  {
   "cell_type": "code",
   "execution_count": null,
   "id": "ec3c3c08",
   "metadata": {},
   "outputs": [],
   "source": []
  },
  {
   "cell_type": "code",
   "execution_count": 2,
   "id": "353d643f",
   "metadata": {},
   "outputs": [
    {
     "data": {
      "application/vnd.jupyter.widget-view+json": {
       "model_id": "b96dcfdb0b234a7eba4afeab4bd71169",
       "version_major": 2,
       "version_minor": 0
      },
      "text/plain": [
       "VBox()"
      ]
     },
     "metadata": {},
     "output_type": "display_data"
    },
    {
     "data": {
      "application/vnd.jupyter.widget-view+json": {
       "model_id": "",
       "version_major": 2,
       "version_minor": 0
      },
      "text/plain": [
       "FloatProgress(value=0.0, bar_style='info', description='Progress:', layout=Layout(height='25px', width='50%'),…"
      ]
     },
     "metadata": {},
     "output_type": "display_data"
    }
   ],
   "source": [
    "'''First we'll try logistic regression, below codes creates the pipeline\n",
    "and model building, we'll split the data into 80%/20%.'''\n",
    "import pyspark.ml.classification as cl\n",
    "import pyspark.ml.feature as feat\n",
    "from pyspark.ml import Pipeline\n",
    "\n",
    "df_train, df_test = (df.randomSplit([0.8, 0.2], seed=123))\n",
    "\n",
    "vectorAssembler = feat.VectorAssembler(\n",
    "    inputCols=df.columns[0:-1]\n",
    "    , outputCol='features')\n",
    "\n",
    "selector = feat.ChiSqSelector(labelCol='STATUS'\n",
    "    , numTopFeatures=10\n",
    "    , outputCol='selected')\n",
    "\n",
    "logReg_obj = cl.LogisticRegression(\n",
    "    labelCol='STATUS'\n",
    "    , featuresCol=selector.getOutputCol()\n",
    "    , regParam=0.01\n",
    "    , elasticNetParam=1.0\n",
    "    , family='multinomial')\n",
    "\n",
    "pipeline = Pipeline(\n",
    "    stages=[vectorAssembler\n",
    "        , selector\n",
    "        , logReg_obj])\n",
    "pModel = pipeline.fit(df_train)"
   ]
  },
  {
   "cell_type": "code",
   "execution_count": null,
   "id": "f660c71b",
   "metadata": {},
   "outputs": [],
   "source": [
    "'''There is no output for above code, but the model has been created\n",
    "successfully.'''"
   ]
  },
  {
   "cell_type": "code",
   "execution_count": 3,
   "id": "128701ef",
   "metadata": {},
   "outputs": [
    {
     "data": {
      "application/vnd.jupyter.widget-view+json": {
       "model_id": "0b2717185c314c5f9d26c9ff335c0fa2",
       "version_major": 2,
       "version_minor": 0
      },
      "text/plain": [
       "VBox()"
      ]
     },
     "metadata": {},
     "output_type": "display_data"
    },
    {
     "data": {
      "application/vnd.jupyter.widget-view+json": {
       "model_id": "",
       "version_major": 2,
       "version_minor": 0
      },
      "text/plain": [
       "FloatProgress(value=0.0, bar_style='info', description='Progress:', layout=Layout(height='25px', width='50%'),…"
      ]
     },
     "metadata": {},
     "output_type": "display_data"
    },
    {
     "name": "stdout",
     "output_type": "stream",
     "text": [
      "\n",
      "F-1 score: 0.8197283600974614\n",
      "Weighted Precision: 0.7693717967633251\n",
      "Accuracy: 0.8771384136858476\n",
      "(None, None, None)"
     ]
    }
   ],
   "source": [
    "'''Now, we'll evaluate the performance of our logistic regression model\n",
    "after we fitted the model on the test set.'''\n",
    "import pyspark.ml.evaluation as ev\n",
    "\n",
    "logReg_model = (pModel.transform(df_test))\n",
    "\n",
    "results_logReg = logReg_model.select('STATUS', 'probability', 'prediction')\n",
    "\n",
    "evaluator = ev.MulticlassClassificationEvaluator(\n",
    "    predictionCol='prediction'\n",
    "    ,labelCol='STATUS')\n",
    "\n",
    "(#F-1 score\n",
    "    print('\\nF-1 score: ' + str(evaluator.evaluate(results_logReg)))\n",
    "    #weighted precision\n",
    "    , print('Weighted Precision: ' + str(evaluator.evaluate(\n",
    "        results_logReg\n",
    "        , {evaluator.metricName: 'weightedPrecision'}\n",
    "    ))) \n",
    "    #accuracy\n",
    "    , print('Accuracy: ' + str(evaluator.evaluate(\n",
    "        results_logReg\n",
    "        , {evaluator.metricName: 'accuracy'}\n",
    "    ))))"
   ]
  },
  {
   "cell_type": "code",
   "execution_count": null,
   "id": "fae73543",
   "metadata": {},
   "outputs": [],
   "source": [
    "'''From above output, we can see having a 87% accuracy is pretty good.'''"
   ]
  },
  {
   "cell_type": "code",
   "execution_count": 4,
   "id": "e4549f81",
   "metadata": {},
   "outputs": [
    {
     "data": {
      "application/vnd.jupyter.widget-view+json": {
       "model_id": "19cf4dc4825f4d80914b78f22f7bb415",
       "version_major": 2,
       "version_minor": 0
      },
      "text/plain": [
       "VBox()"
      ]
     },
     "metadata": {},
     "output_type": "display_data"
    },
    {
     "data": {
      "application/vnd.jupyter.widget-view+json": {
       "model_id": "",
       "version_major": 2,
       "version_minor": 0
      },
      "text/plain": [
       "FloatProgress(value=0.0, bar_style='info', description='Progress:', layout=Layout(height='25px', width='50%'),…"
      ]
     },
     "metadata": {},
     "output_type": "display_data"
    },
    {
     "name": "stdout",
     "output_type": "stream",
     "text": [
      "{'ml_attr': {'attrs': {'numeric': [{'idx': 0, 'name': 'Incomplete higher'}, {'idx': 1, 'name': 'Lower secondary'}, {'idx': 2, 'name': 'Pensioner'}, {'idx': 3, 'name': 'State servant'}, {'idx': 4, 'name': 'M'}, {'idx': 5, 'name': 'CNT_CHILDREN'}, {'idx': 6, 'name': 'AMT_INCOME_TOTAL'}, {'idx': 7, 'name': 'AGE_YEARS'}, {'idx': 8, 'name': 'YEARS_EMPLOYED'}, {'idx': 9, 'name': 'CNT_FAM_MEMBERS'}]}, 'num_attrs': 10}}"
     ]
    }
   ],
   "source": [
    "'''We also want to see which ten features the chisq selected for us'''\n",
    "print(logReg_model.schema['selected'].metadata)"
   ]
  },
  {
   "cell_type": "code",
   "execution_count": null,
   "id": "5d400ae9",
   "metadata": {},
   "outputs": [],
   "source": [
    "'''The ten features are within our expectation, nothing surprising'''"
   ]
  },
  {
   "cell_type": "code",
   "execution_count": 5,
   "id": "2b6c39d1",
   "metadata": {},
   "outputs": [
    {
     "data": {
      "application/vnd.jupyter.widget-view+json": {
       "model_id": "b1216e0024a54d86a75753883b200618",
       "version_major": 2,
       "version_minor": 0
      },
      "text/plain": [
       "VBox()"
      ]
     },
     "metadata": {},
     "output_type": "display_data"
    },
    {
     "data": {
      "application/vnd.jupyter.widget-view+json": {
       "model_id": "",
       "version_major": 2,
       "version_minor": 0
      },
      "text/plain": [
       "FloatProgress(value=0.0, bar_style='info', description='Progress:', layout=Layout(height='25px', width='50%'),…"
      ]
     },
     "metadata": {},
     "output_type": "display_data"
    },
    {
     "name": "stdout",
     "output_type": "stream",
     "text": [
      "Best params - regParam: 0.0, elasticNetParam: 0.0, numtop: LogisticRegressionModel: uid = LogisticRegression_4f87e764506a, numClasses = 2, numFeatures = 10"
     ]
    }
   ],
   "source": [
    "'''Then, we'll tune hyperparameters for logistic regression model.\n",
    "Three things we can tune here are regParam, elesticNetParam, and\n",
    "ChiSqSelector.'''\n",
    "import pyspark.ml.tuning as tune\n",
    "vectorAssembler = feat.VectorAssembler(\n",
    "    inputCols=df.columns[0:-1]\n",
    "    , outputCol='features')\n",
    "selector = feat.ChiSqSelector(\n",
    "    labelCol='STATUS'\n",
    "    , numTopFeatures=10\n",
    "    , outputCol='selected')\n",
    "logReg_obj = cl.LogisticRegression(\n",
    "    labelCol='STATUS'\n",
    "    , featuresCol=selector.getOutputCol()\n",
    "    , family='multinomial')\n",
    "\n",
    "logReg_grid = (\n",
    "    tune.ParamGridBuilder()\n",
    "    .addGrid(logReg_obj.regParam\n",
    "            , [0,1])\n",
    "    .addGrid(logReg_obj.elasticNetParam\n",
    "             , [0,1])\n",
    "    .addGrid(selector.numTopFeatures\n",
    "             , [7,10])\n",
    "    .build())\n",
    "\n",
    "logReg_ev = ev.MulticlassClassificationEvaluator(\n",
    "    predictionCol='prediction'\n",
    "    , labelCol='STATUS')\n",
    "\n",
    "cross_v = tune.CrossValidator(\n",
    "    estimator=logReg_obj\n",
    "    , estimatorParamMaps=logReg_grid\n",
    "    , evaluator=logReg_ev)\n",
    "pipeline = Pipeline(stages=[vectorAssembler, selector])\n",
    "data_trans = pipeline.fit(df_train)\n",
    "logReg_modelTest = cross_v.fit(\n",
    "    data_trans.transform(df_train))\n",
    "print('Best params - regParam: {}, elasticNetParam: {}, numtop: {}'\n",
    "      .format(\n",
    "    logReg_modelTest.bestModel._java_obj.getRegParam(),\n",
    "      logReg_modelTest.bestModel._java_obj.getElasticNetParam(),\n",
    "          logReg_modelTest.bestModel))"
   ]
  },
  {
   "cell_type": "code",
   "execution_count": null,
   "id": "48ce22d4",
   "metadata": {},
   "outputs": [],
   "source": [
    "'''After several trials, we found the best hyperparameters for logistic regression,\n",
    "reParam: 0\n",
    "elasticNetParam: 0 \n",
    "numTopFeatures: 10\n",
    "'''"
   ]
  },
  {
   "cell_type": "code",
   "execution_count": 6,
   "id": "9c0513d2",
   "metadata": {},
   "outputs": [
    {
     "data": {
      "application/vnd.jupyter.widget-view+json": {
       "model_id": "a48aeb1f70e54992ba89bf5e2684168f",
       "version_major": 2,
       "version_minor": 0
      },
      "text/plain": [
       "VBox()"
      ]
     },
     "metadata": {},
     "output_type": "display_data"
    },
    {
     "data": {
      "application/vnd.jupyter.widget-view+json": {
       "model_id": "",
       "version_major": 2,
       "version_minor": 0
      },
      "text/plain": [
       "FloatProgress(value=0.0, bar_style='info', description='Progress:', layout=Layout(height='25px', width='50%'),…"
      ]
     },
     "metadata": {},
     "output_type": "display_data"
    },
    {
     "name": "stdout",
     "output_type": "stream",
     "text": [
      "False positive rate by label:\n",
      "label 0: 1.0\n",
      "label 1: 0.0\n",
      "True positive rate by label:\n",
      "label 0: 1.0\n",
      "label 1: 0.0\n",
      "Precision by label:\n",
      "label 0: 0.8845652709793288\n",
      "label 1: 0.0\n",
      "Recall by label:\n",
      "label 0: 1.0\n",
      "label 1: 0.0\n",
      "F-measure by label:\n",
      "label 0: 0.938747290529935\n",
      "label 1: 0.0\n",
      "Accuracy: 0.8845652709793288\n",
      "FPR: 0.8845652709793288\n",
      "TPR: 0.8845652709793288\n",
      "F-measure: 0.8303832514287226\n",
      "Precision: 0.7824557186227334\n",
      "Recall: 0.8845652709793288"
     ]
    }
   ],
   "source": [
    "'''Last thing for this model is to print out the summary of the performance'''\n",
    "\n",
    "trainingSummary = logReg_modelTest.bestModel.summary\n",
    "print(\"False positive rate by label:\")\n",
    "for i, rate in enumerate(trainingSummary.falsePositiveRateByLabel):\n",
    "    print(\"label %d: %s\" % (i, rate))\n",
    "print(\"True positive rate by label:\")\n",
    "for i, rate in enumerate(trainingSummary.truePositiveRateByLabel):\n",
    "    print(\"label %d: %s\" % (i, rate))\n",
    "print(\"Precision by label:\")\n",
    "for i, prec in enumerate(trainingSummary.precisionByLabel):\n",
    "    print(\"label %d: %s\" % (i, prec))\n",
    "print(\"Recall by label:\")\n",
    "for i, rec in enumerate(trainingSummary.recallByLabel):\n",
    "    print(\"label %d: %s\" % (i, rec))\n",
    "print(\"F-measure by label:\")\n",
    "for i, f in enumerate(trainingSummary.fMeasureByLabel()):\n",
    "    print(\"label %d: %s\" % (i, f))\n",
    "    \n",
    "accuracy = trainingSummary.accuracy\n",
    "falsePositiveRate = trainingSummary.weightedFalsePositiveRate\n",
    "truePositiveRate = trainingSummary.weightedTruePositiveRate\n",
    "fMeasure = trainingSummary.weightedFMeasure()\n",
    "precision = trainingSummary.weightedPrecision\n",
    "recall = trainingSummary.weightedRecall\n",
    "print(\"Accuracy: %s\\nFPR: %s\\nTPR: %s\\nF-measure: %s\\nPrecision: %s\\nRecall: %s\"\n",
    "      % (accuracy, falsePositiveRate, truePositiveRate, fMeasure, precision, recall))"
   ]
  },
  {
   "cell_type": "code",
   "execution_count": null,
   "id": "4c2e1cd6",
   "metadata": {},
   "outputs": [],
   "source": [
    "'''From the above output, we can see the accuracy is 0.88 and F1 score is 0.83.\n",
    "Both of these measures are slightly better than the one that we didn't tune the hyperparameter.'"
   ]
  },
  {
   "cell_type": "code",
   "execution_count": 11,
   "id": "4a0a3c34",
   "metadata": {},
   "outputs": [
    {
     "data": {
      "application/vnd.jupyter.widget-view+json": {
       "model_id": "cf0c4452becd4dcbae03db75f941c3ce",
       "version_major": 2,
       "version_minor": 0
      },
      "text/plain": [
       "VBox()"
      ]
     },
     "metadata": {},
     "output_type": "display_data"
    },
    {
     "data": {
      "application/vnd.jupyter.widget-view+json": {
       "model_id": "",
       "version_major": 2,
       "version_minor": 0
      },
      "text/plain": [
       "FloatProgress(value=0.0, bar_style='info', description='Progress:', layout=Layout(height='25px', width='50%'),…"
      ]
     },
     "metadata": {},
     "output_type": "display_data"
    },
    {
     "name": "stdout",
     "output_type": "stream",
     "text": [
      "\n",
      "F-1 score: 0.8197283600974614\n",
      "Weighted Precision: 0.7693717967633251\n",
      "Accuracy: 0.8771384136858476\n",
      "(None, None, None)"
     ]
    }
   ],
   "source": [
    "'''Then, we'll try random forest, below codes creates the pipeline\n",
    "and model building. The evaluation will be printed out at the end'''\n",
    "import pyspark.ml.classification as cl\n",
    "import pyspark.ml.feature as feat\n",
    "from pyspark.ml import Pipeline\n",
    "\n",
    "df_train, df_test = (df.randomSplit([0.8, 0.2], seed=123))\n",
    "vectorAssembler = feat.VectorAssembler(\n",
    "    inputCols=df.columns[0:-1]\n",
    "    , outputCol='features')\n",
    "selector = feat.ChiSqSelector(labelCol='STATUS'\n",
    "    , numTopFeatures=10\n",
    "    , outputCol='selected')\n",
    "\n",
    "rf_obj = cl.RandomForestClassifier(\n",
    "    labelCol='STATUS'\n",
    "    , featuresCol=selector.getOutputCol()\n",
    "    , minInstancesPerNode=5\n",
    "    , maxDepth = 4\n",
    "    , numTrees=5)\n",
    "\n",
    "pipeline = Pipeline(stages=[vectorAssembler, selector, rf_obj])\n",
    "\n",
    "pModel = pipeline.fit(df_train)\n",
    "\n",
    "rf_obj_trained = (\n",
    "    pModel\n",
    "    .transform(df_test))\n",
    "results_rf = rf_obj_trained.select('STATUS', 'probability', 'prediction')\n",
    "\n",
    "evaluator = ev.MulticlassClassificationEvaluator(\n",
    "    predictionCol='prediction'\n",
    "    , labelCol='STATUS')\n",
    "\n",
    "(print('\\nF-1 score: ' + str(evaluator.evaluate(results_rf)))\n",
    "    , print('Weighted Precision: ' + str(evaluator.evaluate(\n",
    "        results_rf\n",
    "        , {evaluator.metricName: 'weightedPrecision'})))\n",
    "    , print('Accuracy: ' + str(evaluator.evaluate(\n",
    "        results_rf\n",
    "        , {evaluator.metricName: 'accuracy'}))))"
   ]
  },
  {
   "cell_type": "code",
   "execution_count": null,
   "id": "b34c542c",
   "metadata": {},
   "outputs": [],
   "source": [
    "'''From the above output, we can see the performance is pretty similar to logistic regression.'''"
   ]
  },
  {
   "cell_type": "code",
   "execution_count": 8,
   "id": "2a420699",
   "metadata": {},
   "outputs": [
    {
     "data": {
      "application/vnd.jupyter.widget-view+json": {
       "model_id": "75da7729b5f341bb864173bcc7920df5",
       "version_major": 2,
       "version_minor": 0
      },
      "text/plain": [
       "VBox()"
      ]
     },
     "metadata": {},
     "output_type": "display_data"
    },
    {
     "data": {
      "application/vnd.jupyter.widget-view+json": {
       "model_id": "",
       "version_major": 2,
       "version_minor": 0
      },
      "text/plain": [
       "FloatProgress(value=0.0, bar_style='info', description='Progress:', layout=Layout(height='25px', width='50%'),…"
      ]
     },
     "metadata": {},
     "output_type": "display_data"
    },
    {
     "name": "stdout",
     "output_type": "stream",
     "text": [
      "Best params - MaxDepth: 4, MinInstancesPerNode: 5, numTrees: 9"
     ]
    }
   ],
   "source": [
    "'''Below, we'll tune the hyperparameters. We expect to see the best parameters\n",
    "for random forest. '''\n",
    "import pyspark.ml.tuning as tune\n",
    "\n",
    "vectorAssembler = feat.VectorAssembler(\n",
    "    inputCols=df.columns[0:-1]\n",
    "    , outputCol='features')\n",
    "\n",
    "selector = feat.ChiSqSelector(\n",
    "    labelCol='STATUS'\n",
    "    , numTopFeatures=10\n",
    "    , outputCol='selected')\n",
    "\n",
    "rf_obj = cl.RandomForestClassifier(\n",
    "    labelCol='STATUS'\n",
    "    , featuresCol=selector.getOutputCol()\n",
    "    , minInstancesPerNode=5\n",
    "    , maxDepth = 4\n",
    "    , numTrees=10\n",
    ")\n",
    "\n",
    "logReg_grid = (\n",
    "    tune.ParamGridBuilder()\n",
    "    #try 3 values for regParam\n",
    "    .addGrid(rf_obj.minInstancesPerNode\n",
    "            , [3,5]\n",
    "        )\n",
    "    #try 3 values for elasticNetParam\n",
    "    .addGrid(rf_obj.maxDepth\n",
    "            , [3,4]\n",
    "        )\n",
    "    .addGrid(rf_obj.numTrees\n",
    "            , [10,9]\n",
    "        )\n",
    "    .build()\n",
    ")\n",
    "\n",
    "logReg_ev = ev.MulticlassClassificationEvaluator(\n",
    "    predictionCol='prediction'\n",
    "    , labelCol='STATUS')\n",
    "cross_v = tune.CrossValidator(\n",
    "    estimator=rf_obj\n",
    "    , estimatorParamMaps=logReg_grid\n",
    "    , evaluator=logReg_ev\n",
    ")\n",
    "pipeline = Pipeline(stages=[vectorAssembler, selector])\n",
    "data_trans = pipeline.fit(df_train)\n",
    "\n",
    "logReg_modelTest = cross_v.fit(\n",
    "    data_trans.transform(df_train))\n",
    "print('Best params - MaxDepth: {}, MinInstancesPerNode: {}, numTrees: {}'.format(\n",
    "    logReg_modelTest.bestModel._java_obj.getMaxDepth(),\n",
    "      logReg_modelTest.bestModel._java_obj.getMinInstancesPerNode(),\n",
    "        logReg_modelTest.bestModel._java_obj.getNumTrees()))  "
   ]
  },
  {
   "cell_type": "code",
   "execution_count": null,
   "id": "e2da5527",
   "metadata": {},
   "outputs": [],
   "source": [
    "'''After several trials, we found the best hyperparameters for random forest,\n",
    "MaxDepth: 4\n",
    "minInstancesPerNode: 5 \n",
    "numTrees: 9\n",
    "'''"
   ]
  },
  {
   "cell_type": "code",
   "execution_count": 10,
   "id": "628efef3",
   "metadata": {},
   "outputs": [
    {
     "data": {
      "application/vnd.jupyter.widget-view+json": {
       "model_id": "cbe5965b61f3455084c229e83ce1a64d",
       "version_major": 2,
       "version_minor": 0
      },
      "text/plain": [
       "VBox()"
      ]
     },
     "metadata": {},
     "output_type": "display_data"
    },
    {
     "data": {
      "application/vnd.jupyter.widget-view+json": {
       "model_id": "",
       "version_major": 2,
       "version_minor": 0
      },
      "text/plain": [
       "FloatProgress(value=0.0, bar_style='info', description='Progress:', layout=Layout(height='25px', width='50%'),…"
      ]
     },
     "metadata": {},
     "output_type": "display_data"
    },
    {
     "name": "stdout",
     "output_type": "stream",
     "text": [
      "\n",
      "F-1 score: 0.821442917772369\n",
      "Weighted Precision: 0.8927776472234618\n",
      "Accuracy: 0.8778453273010038\n",
      "(None, None, None)"
     ]
    }
   ],
   "source": [
    "'''Lastly, let's use the above parameter to run random forest again.\n",
    "We expect there should be a improvement.'''\n",
    "import pyspark.ml.classification as cl\n",
    "import pyspark.ml.feature as feat\n",
    "from pyspark.ml import Pipeline\n",
    "\n",
    "df_train, df_test = (df.randomSplit([0.8, 0.2], seed=123))\n",
    "vectorAssembler = feat.VectorAssembler(\n",
    "    inputCols=df.columns[0:-1]\n",
    "    , outputCol='features')\n",
    "selector = feat.ChiSqSelector(labelCol='STATUS'\n",
    "    , numTopFeatures=10\n",
    "    , outputCol='selected')\n",
    "\n",
    "rf_obj = cl.RandomForestClassifier(\n",
    "    labelCol='STATUS'\n",
    "    , featuresCol=selector.getOutputCol()\n",
    "    , minInstancesPerNode=5\n",
    "    , maxDepth = 4\n",
    "    , numTrees=9)\n",
    "\n",
    "pipeline = Pipeline(stages=[vectorAssembler, selector, rf_obj])\n",
    "\n",
    "pModel = pipeline.fit(df_train)\n",
    "\n",
    "rf_obj_trained = (\n",
    "    pModel\n",
    "    .transform(df_test))\n",
    "results_rf = rf_obj_trained.select('STATUS', 'probability', 'prediction')\n",
    "\n",
    "evaluator = ev.MulticlassClassificationEvaluator(\n",
    "    predictionCol='prediction'\n",
    "    , labelCol='STATUS')\n",
    "\n",
    "(print('\\nF-1 score: ' + str(evaluator.evaluate(results_rf)))\n",
    "    , print('Weighted Precision: ' + str(evaluator.evaluate(\n",
    "        results_rf\n",
    "        , {evaluator.metricName: 'weightedPrecision'})))\n",
    "    , print('Accuracy: ' + str(evaluator.evaluate(\n",
    "        results_rf\n",
    "        , {evaluator.metricName: 'accuracy'}))))"
   ]
  },
  {
   "cell_type": "code",
   "execution_count": null,
   "id": "e2799d1d",
   "metadata": {},
   "outputs": [],
   "source": [
    "'''From the output, we can see after tunning the hyperparameter, F-1 score and Accuracy\n",
    "become higher.'''"
   ]
  },
  {
   "cell_type": "code",
   "execution_count": null,
   "id": "8d848972",
   "metadata": {},
   "outputs": [],
   "source": []
  },
  {
   "cell_type": "code",
   "execution_count": null,
   "id": "8cf21cc7",
   "metadata": {},
   "outputs": [],
   "source": [
    "'''In conclusion, we think logistic regression is better than the random forest model\n",
    "with a slightly higher performance.\n",
    "We would choose logistic regression model for predicting credit card application approval,\n",
    "and we think it will work pretty well.'''"
   ]
  }
 ],
 "metadata": {
  "kernelspec": {
   "display_name": "PySpark",
   "language": "",
   "name": "pysparkkernel"
  },
  "language_info": {
   "codemirror_mode": {
    "name": "python",
    "version": 3
   },
   "mimetype": "text/x-python",
   "name": "pyspark",
   "pygments_lexer": "python3"
  }
 },
 "nbformat": 4,
 "nbformat_minor": 5
}
